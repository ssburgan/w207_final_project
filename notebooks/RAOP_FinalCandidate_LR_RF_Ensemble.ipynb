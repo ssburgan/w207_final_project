{
  "nbformat": 4,
  "nbformat_minor": 0,
  "metadata": {
    "colab": {
      "name": "RAOP_FinalCandidate_LR-RF_Ensemble.ipynb",
      "provenance": []
    },
    "kernelspec": {
      "name": "python3",
      "display_name": "Python 3"
    },
    "language_info": {
      "name": "python"
    }
  },
  "cells": [
    {
      "cell_type": "markdown",
      "source": [
        "## Random Acts of Pizza\n",
        "#### Sybil Santos-Burgan, Shane Kramer, Monali, Jose Torres\n",
        "#### 207 Final Project Scratchpad\n",
        "#### 04.08.22 - Final Notebook (candidate)\n",
        "#### Ensemble of Logistic Regression and Random Forest Model"
      ],
      "metadata": {
        "id": "4KwVQyqjHJjE"
      }
    },
    {
      "cell_type": "code",
      "execution_count": 6,
      "metadata": {
        "id": "VItiFIHIGU8i"
      },
      "outputs": [],
      "source": [
        "import re\n",
        "import numpy as np \n",
        "import pandas as pd \n",
        "import json\n",
        "import nltk \n",
        "from pandas import json_normalize\n",
        "from nltk.corpus import stopwords\n",
        "from nltk.stem.porter import PorterStemmer\n",
        "from sklearn.linear_model import LogisticRegression\n",
        "from sklearn import metrics\n",
        "from sklearn.metrics import classification_report\n",
        "from sklearn.feature_extraction.text import *\n",
        "from sklearn.tree import DecisionTreeClassifier\n",
        "from sklearn.ensemble import RandomForestClassifier\n",
        "from sklearn.ensemble import VotingClassifier\n",
        "import matplotlib.pyplot as plt\n",
        "import seaborn as sns"
      ]
    },
    {
      "cell_type": "code",
      "source": [
        "from google.colab import drive\n",
        "drive.mount('/content/drive')"
      ],
      "metadata": {
        "colab": {
          "base_uri": "https://localhost:8080/"
        },
        "id": "m0yMwPxsGgVu",
        "outputId": "4c13d76b-2c2b-497e-8749-f702819a07f9"
      },
      "execution_count": 2,
      "outputs": [
        {
          "output_type": "stream",
          "name": "stdout",
          "text": [
            "Mounted at /content/drive\n"
          ]
        }
      ]
    },
    {
      "cell_type": "code",
      "source": [
        "# Read JSON file\n",
        "df = pd.read_json('/content/drive/MyDrive/W207/FinalProject/w207_final_project/src/data/train.json')\n",
        "\n",
        "# For the entire training set, add column for request text count, create label obejct, \n",
        "# And purge the request_texct_count column from training data\n",
        "full_df = df.copy()\n",
        "full_df['request_text_count'] = df['request_text'].str.count(' ') + 1\n",
        "full_labels = full_df['requester_received_pizza']\n",
        "full_df = full_df.drop('requester_received_pizza', axis=1)\n",
        "\n",
        "dev_size=1000\n",
        "\n",
        "# Build train and dev data sets\n",
        "train_data, train_labels = full_df[dev_size:], full_labels[dev_size:]\n",
        "dev_data, dev_labels = full_df[:dev_size], full_labels[:dev_size]"
      ],
      "metadata": {
        "id": "3vPzUYBrGiK9"
      },
      "execution_count": 3,
      "outputs": []
    },
    {
      "cell_type": "code",
      "source": [
        "##### Confusion Matrix Function #####\n",
        "def plotConfusionMatrix(cnf_matrix):\n",
        "  # Plot results\n",
        "  class_names=[0,1] # name  of classes\n",
        "  fig, ax = plt.subplots()\n",
        "  tick_marks = np.arange(len(class_names))\n",
        "  plt.xticks(tick_marks, class_names)\n",
        "  plt.yticks(tick_marks, class_names)\n",
        "\n",
        "  # create heatmap\n",
        "  sns.heatmap(pd.DataFrame(cnf_matrix), annot=True, cmap=\"YlGnBu\" ,fmt='g')\n",
        "  ax.xaxis.set_label_position(\"top\")\n",
        "  plt.tight_layout()\n",
        "  plt.title('Confusion matrix', y=1.1)\n",
        "  plt.ylabel('Actual label')\n",
        "  plt.xlabel('Predicted label')"
      ],
      "metadata": {
        "id": "7BgOVeCtGq6O"
      },
      "execution_count": 4,
      "outputs": []
    },
    {
      "cell_type": "code",
      "source": [
        "###################################################################\n",
        "# Linear Regression\n",
        "###################################################################\n",
        "# Now need to split into features and targets\n",
        "feature_cols = ['request_text_count', \n",
        "                'number_of_upvotes_of_request_at_retrieval',\n",
        "                'request_number_of_comments_at_retrieval',\n",
        "                'requester_account_age_in_days_at_retrieval',\n",
        "                'requester_days_since_first_post_on_raop_at_retrieval',\n",
        "                'requester_number_of_comments_at_retrieval',\n",
        "                'requester_number_of_comments_in_raop_at_request',\n",
        "                'requester_number_of_comments_in_raop_at_retrieval',\n",
        "                'requester_number_of_posts_on_raop_at_request',\n",
        "                'requester_number_of_posts_on_raop_at_retrieval', \n",
        "                ]\n",
        "\n",
        "X = train_data[feature_cols]\n",
        "Y = train_labels\n",
        "\n",
        "# Create and train model using train data\n",
        "# Had to set max_iter to a really high number for LR to work with so many dimensions\n",
        "logreg = LogisticRegression(class_weight='balanced', max_iter=10000)\n",
        "logreg.fit(X, Y)\n",
        "\n",
        "# Run model against real dev data\n",
        "X_dev = dev_data[feature_cols]\n",
        "Y_dev_LRPred = logreg.predict(X_dev)\n",
        "\n",
        "# Score linear model against dev data\n",
        "print(\"\")\n",
        "print(\"###################################################################\")\n",
        "print(\"Tuned Linear Regression Metrics & Confusion Matrix Against Dev Data\")\n",
        "print(\"###################################################################\")\n",
        "cnf_matrix = metrics.confusion_matrix(dev_labels, Y_dev_LRPred)\n",
        "plotConfusionMatrix(cnf_matrix)\n",
        "\n",
        "fpr, tpr, thresholds = metrics.roc_curve(dev_labels, Y_dev_LRPred, pos_label=1)\n",
        "print(\"AUC: \", metrics.auc(fpr, tpr))\n",
        "\n",
        "print(\"Accuracy:\",metrics.accuracy_score(dev_labels, Y_dev_LRPred))\n",
        "print(classification_report(dev_labels, Y_dev_LRPred))"
      ],
      "metadata": {
        "colab": {
          "base_uri": "https://localhost:8080/",
          "height": 585
        },
        "id": "TZM8GyBtG2HU",
        "outputId": "f3345269-c5b5-4e62-aebf-0610390a204a"
      },
      "execution_count": 7,
      "outputs": [
        {
          "output_type": "stream",
          "name": "stdout",
          "text": [
            "\n",
            "###################################################################\n",
            "Tuned Linear Regression Metrics & Confusion Matrix Against Dev Data\n",
            "###################################################################\n",
            "AUC:  0.7603430353430354\n",
            "Accuracy: 0.793\n",
            "              precision    recall  f1-score   support\n",
            "\n",
            "       False       0.88      0.83      0.86       740\n",
            "        True       0.59      0.69      0.63       260\n",
            "\n",
            "    accuracy                           0.79      1000\n",
            "   macro avg       0.74      0.76      0.75      1000\n",
            "weighted avg       0.81      0.79      0.80      1000\n",
            "\n"
          ]
        },
        {
          "output_type": "display_data",
          "data": {
            "text/plain": [
              "<Figure size 432x288 with 2 Axes>"
            ],
            "image/png": "[encoded data removed]"
          },
          "metadata": {
            "needs_background": "light"
          }
        }
      ]
    },
    {
      "cell_type": "code",
      "source": [
        "###################################################################\n",
        "# Random Forest - Tuned - depth=20, random state = 0, classweights75/25\n",
        "###################################################################\n",
        "X = train_data[feature_cols]\n",
        "Y = train_labels\n",
        "X_test = dev_data[feature_cols]\n",
        "\n",
        "classWeights =  {0: .75,\n",
        "                 1: .25}\n",
        "                \n",
        "rfc = RandomForestClassifier(max_depth = 20, random_state=0, class_weight=classWeights)\n",
        "\n",
        "rfc.fit(X, Y)\n",
        "Y_dev_RF_pred = rfc.predict(X_test)\n",
        "\n",
        "# Score Ensemble against dev data\n",
        "print(\"\")\n",
        "print(\"###################################################################\")\n",
        "print(\"Random Forest Metrics & Confusion Matrix Against Dev Data\")\n",
        "print(\"###################################################################\")\n",
        "cnf_matrix = metrics.confusion_matrix(dev_labels, Y_dev_RF_pred)\n",
        "plotConfusionMatrix(cnf_matrix)\n",
        "\n",
        "fpr, tpr, thresholds = metrics.roc_curve(dev_labels, Y_dev_RF_pred, pos_label=1)\n",
        "print(\"AUC: \", metrics.auc(fpr, tpr))\n",
        "print(\"Accuracy:\",metrics.accuracy_score(dev_labels, Y_dev_RF_pred))\n",
        "print(classification_report(dev_labels, Y_dev_RF_pred))"
      ],
      "metadata": {
        "colab": {
          "base_uri": "https://localhost:8080/",
          "height": 585
        },
        "id": "8vdWzqDBHsRr",
        "outputId": "372812d2-c1c5-4c77-d862-527bb8527901"
      },
      "execution_count": 8,
      "outputs": [
        {
          "output_type": "stream",
          "name": "stdout",
          "text": [
            "\n",
            "###################################################################\n",
            "Random Forest Metrics & Confusion Matrix Against Dev Data\n",
            "###################################################################\n",
            "AUC:  0.7514033264033264\n",
            "Accuracy: 0.837\n",
            "              precision    recall  f1-score   support\n",
            "\n",
            "       False       0.86      0.93      0.89       740\n",
            "        True       0.74      0.57      0.65       260\n",
            "\n",
            "    accuracy                           0.84      1000\n",
            "   macro avg       0.80      0.75      0.77      1000\n",
            "weighted avg       0.83      0.84      0.83      1000\n",
            "\n"
          ]
        },
        {
          "output_type": "display_data",
          "data": {
            "text/plain": [
              "<Figure size 432x288 with 2 Axes>"
            ],
            "image/png": "[encoded data removed]"
          },
          "metadata": {
            "needs_background": "light"
          }
        }
      ]
    },
    {
      "cell_type": "code",
      "source": [
        "###################################################################\n",
        "# Scikit ENSEMBLE (soft voting), equal weights based on AUC scores\n",
        "###################################################################\n",
        "scores= [.76, .75]\n",
        "models = list()\n",
        "models.append(('lr', logreg))\n",
        "models.append(('rfc', rfc))\n",
        "#models.append(('svm', svm))\n",
        "\n",
        "X = train_data[feature_cols]\n",
        "Y = train_labels\n",
        "X_test = dev_data[feature_cols]\n",
        "\n",
        "ensemble = VotingClassifier(estimators=models, voting='soft', weights=scores)\n",
        "ensemble.fit(X, Y)\n",
        "ensemble_pred = ensemble.predict(X_test)\n",
        "\n",
        "# Score Ensemble against dev data\n",
        "print(\"\")\n",
        "print(\"###################################################################\")\n",
        "print(\"Scikit Ensemble Metrics & Confusion Matrix Against Dev Data\")\n",
        "print(\"###################################################################\")\n",
        "cnf_matrix = metrics.confusion_matrix(dev_labels, ensemble_pred)\n",
        "plotConfusionMatrix(cnf_matrix)\n",
        "\n",
        "fpr, tpr, thresholds = metrics.roc_curve(dev_labels, ensemble_pred, pos_label=1)\n",
        "print(\"AUC: \", metrics.auc(fpr, tpr))\n",
        "\n",
        "print(\"Accuracy:\",metrics.accuracy_score(dev_labels, ensemble_pred))\n",
        "print(classification_report(dev_labels, ensemble_pred))"
      ],
      "metadata": {
        "colab": {
          "base_uri": "https://localhost:8080/",
          "height": 585
        },
        "id": "EIoCqdsFH6Np",
        "outputId": "fc172a73-0ded-4369-8050-1751a4610fb9"
      },
      "execution_count": 9,
      "outputs": [
        {
          "output_type": "stream",
          "name": "stdout",
          "text": [
            "\n",
            "###################################################################\n",
            "Scikit Ensemble Metrics & Confusion Matrix Against Dev Data\n",
            "###################################################################\n",
            "AUC:  0.7670997920997921\n",
            "Accuracy: 0.827\n",
            "              precision    recall  f1-score   support\n",
            "\n",
            "       False       0.88      0.89      0.88       740\n",
            "        True       0.68      0.64      0.66       260\n",
            "\n",
            "    accuracy                           0.83      1000\n",
            "   macro avg       0.78      0.77      0.77      1000\n",
            "weighted avg       0.82      0.83      0.83      1000\n",
            "\n"
          ]
        },
        {
          "output_type": "display_data",
          "data": {
            "text/plain": [
              "<Figure size 432x288 with 2 Axes>"
            ],
            "image/png": "[encoded data removed]"
          },
          "metadata": {
            "needs_background": "light"
          }
        }
      ]
    }
  ]
}