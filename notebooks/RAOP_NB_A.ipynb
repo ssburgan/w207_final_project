{
  "nbformat": 4,
  "nbformat_minor": 0,
  "metadata": {
    "colab": {
      "name": "RAOP_NB_B.ipynb",
      "provenance": [],
      "collapsed_sections": []
    },
    "kernelspec": {
      "name": "python3",
      "display_name": "Python 3"
    },
    "language_info": {
      "name": "python"
    }
  },
  "cells": [
    {
      "cell_type": "code",
      "execution_count": null,
      "metadata": {
        "id": "LGxXV_paZVg5"
      },
      "outputs": [],
      "source": [
        "### Random Acts of Pizza\n",
        "### Sybil Santos-Burgan, Shane Kramer, Monali, Jose Torres\n",
        "### 207 Final Project - Exploring Naive Bayes Models\n",
        "### 03.27.22 - Naive Bayes model with weighting scoring, upscaling, downscaling"
      ]
    },
    {
      "cell_type": "code",
      "source": [
        "from pandas import json_normalize\n",
        "from sklearn.linear_model import LogisticRegression\n",
        "from sklearn import metrics\n",
        "from sklearn.model_selection import train_test_split\n",
        "from sklearn.feature_extraction.text import *\n",
        "from sklearn.naive_bayes import MultinomialNB\n",
        "from sklearn.naive_bayes import ComplementNB\n",
        "from nltk.corpus import stopwords\n",
        "from nltk.stem.porter import PorterStemmer\n",
        "from sklearn.model_selection import GridSearchCV\n",
        "import re\n",
        "import nltk\n",
        "import numpy as np \n",
        "import pandas as pd \n",
        "import json \n",
        "import matplotlib.pyplot as plt\n",
        "import seaborn as sns"
      ],
      "metadata": {
        "id": "yVjG9sdYbnEg"
      },
      "execution_count": 36,
      "outputs": []
    },
    {
      "cell_type": "code",
      "source": [
        "from google.colab import drive\n",
        "drive.mount('/content/drive')"
      ],
      "metadata": {
        "colab": {
          "base_uri": "https://localhost:8080/"
        },
        "id": "SLYTbwwgbo3X",
        "outputId": "291cb515-45ec-4e96-e307-934aef1a9a62"
      },
      "execution_count": 7,
      "outputs": [
        {
          "output_type": "stream",
          "name": "stdout",
          "text": [
            "Mounted at /content/drive\n"
          ]
        }
      ]
    },
    {
      "cell_type": "code",
      "source": [
        "alphas = [.0001, .001, .01, .05, .06, .07, .08, .09, .1, .11, .5, 1.0, 2.0, 10]"
      ],
      "metadata": {
        "id": "UeN8Vx9AcPn4"
      },
      "execution_count": 45,
      "outputs": []
    },
    {
      "cell_type": "code",
      "source": [
        "def plotConfusionMatrix(cnf_matrix):\n",
        "  # Plot results\n",
        "  class_names=[0,1] # name  of classes\n",
        "  fig, ax = plt.subplots()\n",
        "  tick_marks = np.arange(len(class_names))\n",
        "  plt.xticks(tick_marks, class_names)\n",
        "  plt.yticks(tick_marks, class_names)\n",
        "\n",
        "  # create heatmap\n",
        "  sns.heatmap(pd.DataFrame(cnf_matrix), annot=True, cmap=\"YlGnBu\" ,fmt='g')\n",
        "  ax.xaxis.set_label_position(\"top\")\n",
        "  plt.tight_layout()\n",
        "  plt.title('Confusion matrix', y=1.1)\n",
        "  plt.ylabel('Actual label')\n",
        "  plt.xlabel('Predicted label')"
      ],
      "metadata": {
        "id": "7hmDKlH6NMPi"
      },
      "execution_count": 4,
      "outputs": []
    },
    {
      "cell_type": "code",
      "source": [
        "# Can configure the list below to filter columns from original training data set\n",
        "test_cols = ['request_text', 'request_number_of_comments_at_retrieval', 'requester_received_pizza']\n",
        "\n",
        "# Read JSON file\n",
        "df = pd.read_json('/content/drive/MyDrive/W207/FinalProject/w207_final_project/src/data/train.json')\n",
        "\n",
        "# For the entire training set, add column for request text count, create label obejct, \n",
        "# And purge the request_texct_count column from training data\n",
        "full_df = df.copy()\n",
        "full_df['request_text_count'] = df['request_text'].str.count(' ') + 1\n",
        "full_labels = full_df['requester_received_pizza']\n",
        "full_df = full_df.drop('requester_received_pizza', axis=1)\n",
        "\n",
        "# Not filtering columns for now\n",
        "#filtered_df = df[test_cols]\n",
        "\n",
        "dev_size=1000\n",
        "\n",
        "# Build train and dev data sets\n",
        "train_data, train_labels = full_df.request_text[dev_size:], full_labels[dev_size:]\n",
        "dev_data, dev_labels = full_df.request_text[:dev_size], full_labels[:dev_size]"
      ],
      "metadata": {
        "id": "GhyNReL4cMod"
      },
      "execution_count": 16,
      "outputs": []
    },
    {
      "cell_type": "code",
      "source": [
        "print(\"###################################################################\")\n",
        "print(\"Tuning Naive Bayes Alpha for baseline model (score weighted).\")\n",
        "print(\"###################################################################\")\n",
        "\n",
        "vectorizer = CountVectorizer()\n",
        "trainVector = vectorizer.fit_transform(train_data)\n",
        "devVector = vectorizer.transform(dev_data)\n",
        "\n",
        "for i in alphas:\n",
        "      \n",
        "  mnb = MultinomialNB(alpha = i)\n",
        "  mnb.fit(trainVector, train_labels)\n",
        "\n",
        "  #Evaluate performance on the dev set.\n",
        "  pred_mnb = mnb.predict(devVector)\n",
        "  score = metrics.f1_score(dev_labels, pred_mnb, average=\"weighted\")\n",
        "  print(\"     a =\", i, \" - f1 score =\", score)"
      ],
      "metadata": {
        "colab": {
          "base_uri": "https://localhost:8080/"
        },
        "id": "TImgbVmLc1mE",
        "outputId": "ebb42834-596f-495a-c62e-cb4e1e46313b"
      },
      "execution_count": 42,
      "outputs": [
        {
          "output_type": "stream",
          "name": "stdout",
          "text": [
            "###################################################################\n",
            "Tuning Naive Bayes Alpha for baseline model (score weighted).\n",
            "###################################################################\n",
            "     a = 0.0001  - f1 score = 0.668475\n",
            "     a = 0.001  - f1 score = 0.6677606796018085\n",
            "     a = 0.01  - f1 score = 0.6708568829248878\n",
            "     a = 0.05  - f1 score = 0.667934345758552\n",
            "     a = 0.06  - f1 score = 0.6701334560515416\n",
            "     a = 0.07  - f1 score = 0.6730585091260589\n",
            "     a = 0.08  - f1 score = 0.6723325663445313\n",
            "     a = 0.09  - f1 score = 0.6700974626398354\n",
            "     a = 0.1  - f1 score = 0.6715402298850575\n",
            "     a = 0.11  - f1 score = 0.6715402298850575\n",
            "     a = 0.5  - f1 score = 0.6568691782147799\n",
            "     a = 1.0  - f1 score = 0.6395443925233647\n",
            "     a = 2.0  - f1 score = 0.6292905273564535\n",
            "     a = 10  - f1 score = 0.6294252873563219\n"
          ]
        }
      ]
    },
    {
      "cell_type": "code",
      "source": [
        "print(\"\")\n",
        "print(\"###################################################################\")\n",
        "print(\"Plot confusion matrix results for 3000/1000 NB with Alpha = .07\")\n",
        "print(\"###################################################################\")\n",
        "cnf_matrix = metrics.confusion_matrix(dev_labels, pred_mnb)\n",
        "plotConfusionMatrix(cnf_matrix)"
      ],
      "metadata": {
        "colab": {
          "base_uri": "https://localhost:8080/",
          "height": 394
        },
        "id": "nwpDy03ON50w",
        "outputId": "9202d71b-9213-4a44-8262-6ce7a7cf7fc8"
      },
      "execution_count": 18,
      "outputs": [
        {
          "output_type": "stream",
          "name": "stdout",
          "text": [
            "\n",
            "###################################################################\n",
            "Plot confusion matrix results for 3000/1000 NB with Alpha = .07\n",
            "###################################################################\n"
          ]
        },
        {
          "output_type": "display_data",
          "data": {
            "text/plain": [
              "<Figure size 432x288 with 2 Axes>"
            ],
            "image/png": "[encoded data removed]"
          },
          "metadata": {
            "needs_background": "light"
          }
        }
      ]
    },
    {
      "cell_type": "markdown",
      "source": [
        "It looks like the optimal alpha for our model is .07 with an f1 score of 0.67306.\n",
        "\n",
        "Lets preprocess the data first and see what we can accomplish. "
      ],
      "metadata": {
        "id": "NA6IM6eerdxE"
      }
    },
    {
      "cell_type": "code",
      "source": [
        "print(\"\")\n",
        "print(\"###################################################################\")\n",
        "print(\"Let's see if pre-processing the data helps at all.\")\n",
        "print(\"###################################################################\")\n",
        "\n",
        "nltk.download('stopwords')\n",
        "    \n",
        "cachedStopWords = stopwords.words(\"english\")\n",
        "ps = PorterStemmer()\n",
        "\n",
        "def myPreprocessor(data):\n",
        "   filteredData = re.sub('[^A-Za-z0-9 \\n]+', ' ', data.lower())\n",
        "   filteredData = ' '.join([word for word in filteredData.split() \n",
        "      if word not in cachedStopWords])\n",
        "   filteredData = ' '.join([word[0:6] if len(word) > 6 else \n",
        "                            word for word in filteredData.split()])\n",
        "   #print(filteredData)\n",
        "   return filteredData\n",
        "\n",
        "ppVectorizer = CountVectorizer(preprocessor=myPreprocessor)\n",
        "ppTrainVector = ppVectorizer.fit_transform(train_data)\n",
        "ppDevVector = ppVectorizer.transform(dev_data)\n",
        "\n",
        "mnb = MultinomialNB(alpha = .07)\n",
        "mnb.fit(ppTrainVector, train_labels)\n",
        "\n",
        "#Evaluate performance on the dev set.\n",
        "pred_mnb2 = mnb.predict(ppDevVector)\n",
        "score = metrics.f1_score(dev_labels, pred_mnb, average=\"weighted\")\n",
        "print(\"     a = .07 - f1 score =\", score)"
      ],
      "metadata": {
        "colab": {
          "base_uri": "https://localhost:8080/"
        },
        "id": "VEzIw9ddrwT1",
        "outputId": "9ebc42bd-078b-4488-81af-8fb5e82bb3ee"
      },
      "execution_count": 53,
      "outputs": [
        {
          "output_type": "stream",
          "name": "stdout",
          "text": [
            "\n",
            "###################################################################\n",
            "Let's see if pre-processing the data helps at all.\n",
            "###################################################################\n",
            "[nltk_data] Downloading package stopwords to /root/nltk_data...\n",
            "[nltk_data]   Package stopwords is already up-to-date!\n",
            "     a = .07 - f1 score = 0.628936170212766\n"
          ]
        }
      ]
    },
    {
      "cell_type": "code",
      "source": [
        "print(\"\")\n",
        "print(\"###################################################################\")\n",
        "print(\"Plot confusion matrix results for 3000/1000 pre-processed NB with  \")\n",
        "print(\"Alpha = .07                                                        \")\n",
        "print(\"###################################################################\")\n",
        "cnf_matrix = metrics.confusion_matrix(dev_labels, pred_mnb2)\n",
        "plotConfusionMatrix(cnf_matrix)"
      ],
      "metadata": {
        "colab": {
          "base_uri": "https://localhost:8080/",
          "height": 412
        },
        "id": "CFK4K9wEPVE-",
        "outputId": "eb93974c-9c91-4038-b0f4-c34a7e999555"
      },
      "execution_count": 52,
      "outputs": [
        {
          "output_type": "stream",
          "name": "stdout",
          "text": [
            "\n",
            "###################################################################\n",
            "Plot confusion matrix results for 3000/1000 pre-processed NB with  \n",
            "Alpha = .07                                                        \n",
            "###################################################################\n"
          ]
        },
        {
          "output_type": "display_data",
          "data": {
            "text/plain": [
              "<Figure size 432x288 with 2 Axes>"
            ],
            "image/png": "[encoded data removed]"
          },
          "metadata": {
            "needs_background": "light"
          }
        }
      ]
    },
    {
      "cell_type": "markdown",
      "source": [
        "Maybe TF-IDF?"
      ],
      "metadata": {
        "id": "Sm9z04N3wGjE"
      }
    },
    {
      "cell_type": "code",
      "source": [
        "print(\"\")\n",
        "print(\"###################################################################\")\n",
        "print(\"Give TF-IDF a whirl ...                                            \")\n",
        "print(\"###################################################################\")\n",
        "tfidfVectorizer = TfidfVectorizer()\n",
        "tfidTrainVector = tfidfVectorizer.fit_transform(train_data)\n",
        "tfidDevVector = tfidfVectorizer.transform(dev_data)\n",
        "\n",
        "for i in alphas:\n",
        "  mnb = MultinomialNB(alpha = i)\n",
        "  mnb.fit(tfidTrainVector, train_labels)\n",
        "\n",
        "  #Evaluate performance on the dev set.\n",
        "  pred_mnb3 = mnb.predict(tfidDevVector)\n",
        "  score = metrics.f1_score(dev_labels, pred_mnb, average=\"weighted\")\n",
        "  print(\"     a =\", i, \" - f1 score =\", score)"
      ],
      "metadata": {
        "colab": {
          "base_uri": "https://localhost:8080/"
        },
        "id": "M5XBVrrWwDgF",
        "outputId": "9ae67340-a308-4e5e-9bde-4a662bc966f8"
      },
      "execution_count": 51,
      "outputs": [
        {
          "output_type": "stream",
          "name": "stdout",
          "text": [
            "\n",
            "###################################################################\n",
            "Give TF-IDF a whirl ...                                            \n",
            "###################################################################\n",
            "     a = 0.0001  - f1 score = 0.628936170212766\n",
            "     a = 0.001  - f1 score = 0.628936170212766\n",
            "     a = 0.01  - f1 score = 0.628936170212766\n",
            "     a = 0.05  - f1 score = 0.628936170212766\n",
            "     a = 0.06  - f1 score = 0.628936170212766\n",
            "     a = 0.07  - f1 score = 0.628936170212766\n",
            "     a = 0.08  - f1 score = 0.628936170212766\n",
            "     a = 0.09  - f1 score = 0.628936170212766\n",
            "     a = 0.1  - f1 score = 0.628936170212766\n",
            "     a = 0.11  - f1 score = 0.628936170212766\n",
            "     a = 0.5  - f1 score = 0.628936170212766\n",
            "     a = 1.0  - f1 score = 0.628936170212766\n",
            "     a = 2.0  - f1 score = 0.628936170212766\n",
            "     a = 10  - f1 score = 0.628936170212766\n"
          ]
        }
      ]
    },
    {
      "cell_type": "code",
      "source": [
        "print(\"\")\n",
        "print(\"###################################################################\")\n",
        "print(\"Plot confusion matrix results for 3000/1000 TF-IDF with            \")\n",
        "print(\"Alpha = .07                                                        \")\n",
        "print(\"###################################################################\")\n",
        "cnf_matrix = metrics.confusion_matrix(dev_labels, pred_mnb3)\n",
        "plotConfusionMatrix(cnf_matrix)"
      ],
      "metadata": {
        "colab": {
          "base_uri": "https://localhost:8080/",
          "height": 412
        },
        "id": "nK9yzGvTP0Hl",
        "outputId": "879029fc-fe99-4b2d-af7d-ce45243f216c"
      },
      "execution_count": 50,
      "outputs": [
        {
          "output_type": "stream",
          "name": "stdout",
          "text": [
            "\n",
            "###################################################################\n",
            "Plot confusion matrix results for 3000/1000 TF-IDF with            \n",
            "Alpha = .07                                                        \n",
            "###################################################################\n"
          ]
        },
        {
          "output_type": "display_data",
          "data": {
            "text/plain": [
              "<Figure size 432x288 with 2 Axes>"
            ],
            "image/png": "[encoded data removed]"
          },
          "metadata": {
            "needs_background": "light"
          }
        }
      ]
    },
    {
      "cell_type": "code",
      "source": [
        "print(\"\")\n",
        "print(\"###################################################################\")\n",
        "print(\"TF-IDF with pre-processing ... \")\n",
        "print(\"###################################################################\")\n",
        "tfidfVectorizer = TfidfVectorizer(preprocessor=myPreprocessor)\n",
        "tfidTrainVector = tfidfVectorizer.fit_transform(train_data)\n",
        "tfidDevVector = tfidfVectorizer.transform(dev_data)\n",
        "\n",
        "mnb = MultinomialNB(alpha = .001)\n",
        "mnb.fit(tfidTrainVector, train_labels)\n",
        "\n",
        "#Evaluate performance on the dev set.\n",
        "pred_mnb4 = mnb.predict(tfidDevVector)\n",
        "score = metrics.f1_score(dev_labels, pred_mnb, average=\"weighted\")\n",
        "print(\"     a = .07 - f1 score =\", score)"
      ],
      "metadata": {
        "colab": {
          "base_uri": "https://localhost:8080/"
        },
        "id": "scqT-bZbw416",
        "outputId": "46d3d629-9a37-48ce-f838-3f5c9fd4aee2"
      },
      "execution_count": 49,
      "outputs": [
        {
          "output_type": "stream",
          "name": "stdout",
          "text": [
            "\n",
            "###################################################################\n",
            "TF-IDF with pre-processing ... \n",
            "###################################################################\n",
            "     a = .07 - f1 score = 0.628936170212766\n"
          ]
        }
      ]
    },
    {
      "cell_type": "code",
      "source": [
        "print(\"\")\n",
        "print(\"###################################################################\")\n",
        "print(\"Plot confusion matrix results for 3000/1000 pre-processed TF-IDF   \")\n",
        "print(\"with alpha = .07                                                   \")\n",
        "print(\"###################################################################\")\n",
        "cnf_matrix = metrics.confusion_matrix(dev_labels, pred_mnb4)\n",
        "plotConfusionMatrix(cnf_matrix)"
      ],
      "metadata": {
        "colab": {
          "base_uri": "https://localhost:8080/",
          "height": 412
        },
        "id": "OVu9OAMbQDVl",
        "outputId": "8846d3b2-21ea-425d-8432-11d1025ae9c1"
      },
      "execution_count": 48,
      "outputs": [
        {
          "output_type": "stream",
          "name": "stdout",
          "text": [
            "\n",
            "###################################################################\n",
            "Plot confusion matrix results for 3000/1000 pre-processed TF-IDF   \n",
            "with alpha = .07                                                   \n",
            "###################################################################\n"
          ]
        },
        {
          "output_type": "display_data",
          "data": {
            "text/plain": [
              "<Figure size 432x288 with 2 Axes>"
            ],
            "image/png": "[encoded data removed]"
          },
          "metadata": {
            "needs_background": "light"
          }
        }
      ]
    },
    {
      "cell_type": "code",
      "source": [
        ""
      ],
      "metadata": {
        "id": "O-OYbbGLQinW"
      },
      "execution_count": null,
      "outputs": []
    },
    {
      "cell_type": "markdown",
      "source": [
        "It looks like the best I could do is by training on 75% (ish) of the data, tested against 25% (about 3000 and 1000 respectively), running basic multinomial NB model against data that isn't preprocessed, and using an alpha of .07. This achieves an F1 score of 0.67306."
      ],
      "metadata": {
        "id": "ILxbmwvOx6kw"
      }
    },
    {
      "cell_type": "markdown",
      "source": [
        "Let's check out ComplementNB since it is designed for unbalanced data sets"
      ],
      "metadata": {
        "id": "bm2HTtubdWN4"
      }
    },
    {
      "cell_type": "code",
      "source": [
        "params = {'alpha': alphas,}\n",
        "\n",
        "complement_nb_grid = GridSearchCV(ComplementNB(), param_grid=params, n_jobs=-1, cv=5, verbose=5)\n",
        "complement_nb_grid.fit(trainVector, train_labels)\n",
        "\n",
        "print('Train Accuracy : %.3f'%complement_nb_grid.best_estimator_.score(trainVector, train_labels))\n",
        "print('Test Accuracy : %.3f'%complement_nb_grid.best_estimator_.score(devVector, dev_labels))\n",
        "print('Best Accuracy Through Grid Search : %.3f'%complement_nb_grid.best_score_)\n",
        "print('Best Parameters : ',complement_nb_grid.best_params_)"
      ],
      "metadata": {
        "colab": {
          "base_uri": "https://localhost:8080/"
        },
        "id": "Hx8k3O6La5Wy",
        "outputId": "a4dbb489-1837-4cfe-a05f-50cb1f5d3e66"
      },
      "execution_count": 46,
      "outputs": [
        {
          "output_type": "stream",
          "name": "stdout",
          "text": [
            "Fitting 5 folds for each of 14 candidates, totalling 70 fits\n",
            "Train Accuracy : 0.756\n",
            "Test Accuracy : 0.739\n",
            "Best Accuracy Through Grid Search : 0.755\n",
            "Best Parameters :  {'alpha': 10}\n"
          ]
        }
      ]
    },
    {
      "cell_type": "code",
      "source": [
        "print(\"\")\n",
        "print(\"###################################################################\")\n",
        "print(\"Lets play with complementNB since this data is unbalanced.\")\n",
        "print(\"###################################################################\")\n",
        "\n",
        "vectorizer = CountVectorizer()\n",
        "trainVector = vectorizer.fit_transform(train_data)\n",
        "devVector = vectorizer.transform(dev_data)\n",
        "\n",
        "for i in alphas:\n",
        "      \n",
        "  mnb = ComplementNB(alpha = i, norm=False)\n",
        "  mnb.fit(trainVector, train_labels)\n",
        "\n",
        "  #Evaluate performance on the dev set.\n",
        "  pred_mnb5 = mnb.predict(devVector)\n",
        "  score = metrics.f1_score(dev_labels, pred_mnb5, average=\"weighted\")\n",
        "  print(\"     a =\", i, \" - f1 score =\", score)"
      ],
      "metadata": {
        "colab": {
          "base_uri": "https://localhost:8080/"
        },
        "id": "4dAKhsRNZGJ-",
        "outputId": "5f1bab31-d742-4f34-fd63-b499d49c18c5"
      },
      "execution_count": 54,
      "outputs": [
        {
          "output_type": "stream",
          "name": "stdout",
          "text": [
            "\n",
            "###################################################################\n",
            "Lets play with complementNB since this data is unbalanced.\n",
            "###################################################################\n",
            "     a = 0.0001  - f1 score = 0.646418776022967\n",
            "     a = 0.001  - f1 score = 0.6483654615552484\n",
            "     a = 0.01  - f1 score = 0.6450667196012263\n",
            "     a = 0.05  - f1 score = 0.6483615231156215\n",
            "     a = 0.06  - f1 score = 0.6478296937771472\n",
            "     a = 0.07  - f1 score = 0.65116538256398\n",
            "     a = 0.08  - f1 score = 0.6483615231156215\n",
            "     a = 0.09  - f1 score = 0.6468452493580215\n",
            "     a = 0.1  - f1 score = 0.6468452493580215\n",
            "     a = 0.11  - f1 score = 0.6445696149544183\n",
            "     a = 0.5  - f1 score = 0.6519811971016997\n",
            "     a = 1.0  - f1 score = 0.6454388913154524\n",
            "     a = 2.0  - f1 score = 0.6297589024513266\n",
            "     a = 10  - f1 score = 0.628936170212766\n"
          ]
        }
      ]
    },
    {
      "cell_type": "code",
      "source": [
        "print(\"\")\n",
        "print(\"###################################################################\")\n",
        "print(\"Plot confusion matrix results for 3000/1000 complementNB           \")\n",
        "print(\"with alpha = .07                                                   \")\n",
        "print(\"###################################################################\")\n",
        "cnf_matrix = metrics.confusion_matrix(dev_labels, pred_mnb5)\n",
        "plotConfusionMatrix(cnf_matrix)"
      ],
      "metadata": {
        "colab": {
          "base_uri": "https://localhost:8080/",
          "height": 412
        },
        "id": "JYkymTBhdb1_",
        "outputId": "f0d7ee1c-aea2-4716-e7a1-ddcf5b8bdd60"
      },
      "execution_count": 57,
      "outputs": [
        {
          "output_type": "stream",
          "name": "stdout",
          "text": [
            "\n",
            "###################################################################\n",
            "Plot confusion matrix results for 3000/1000 complementNB           \n",
            "with alpha = .07                                                   \n",
            "###################################################################\n"
          ]
        },
        {
          "output_type": "display_data",
          "data": {
            "text/plain": [
              "<Figure size 432x288 with 2 Axes>"
            ],
            "image/png": "[encoded data removed]"
          },
          "metadata": {
            "needs_background": "light"
          }
        }
      ]
    },
    {
      "cell_type": "code",
      "source": [
        "print(\"\")\n",
        "print(\"###################################################################\")\n",
        "print(\"How about complementNB with preprocessed data?                     \")\n",
        "print(\"###################################################################\")\n",
        "ppVectorizer = CountVectorizer(preprocessor=myPreprocessor)\n",
        "ppTrainVector = ppVectorizer.fit_transform(train_data)\n",
        "ppDevVector = ppVectorizer.transform(dev_data)\n",
        "\n",
        "mnb = ComplementNB(alpha = .07)\n",
        "mnb.fit(ppTrainVector, train_labels)\n",
        "\n",
        "pred_mnb6 = mnb.predict(ppDevVector)\n",
        "score = metrics.f1_score(dev_labels, pred_mnb5, average=\"weighted\")\n",
        "print(\"     a = .07 - f1 score =\", score)"
      ],
      "metadata": {
        "colab": {
          "base_uri": "https://localhost:8080/"
        },
        "id": "lxUzBNxhcye_",
        "outputId": "0b153bbf-c6c1-45b5-db36-a64c98fc493b"
      },
      "execution_count": 56,
      "outputs": [
        {
          "output_type": "stream",
          "name": "stdout",
          "text": [
            "\n",
            "###################################################################\n",
            "How about complementNB with preprocessed data?                     \n",
            "###################################################################\n",
            "     a = .07 - f1 score = 0.628936170212766\n"
          ]
        }
      ]
    },
    {
      "cell_type": "code",
      "source": [
        "print(\"\")\n",
        "print(\"###################################################################\")\n",
        "print(\"Plot confusion matrix results for 3000/1000 pre-processed          \")\n",
        "print(\"complementNB with alpha = .07                                      \")\n",
        "print(\"###################################################################\")\n",
        "cnf_matrix = metrics.confusion_matrix(dev_labels, pred_mnb6)\n",
        "plotConfusionMatrix(cnf_matrix)"
      ],
      "metadata": {
        "colab": {
          "base_uri": "https://localhost:8080/",
          "height": 412
        },
        "id": "b3PMRKY3djz_",
        "outputId": "8271e23f-84ee-4ac2-b33e-db5961e0210c"
      },
      "execution_count": 58,
      "outputs": [
        {
          "output_type": "stream",
          "name": "stdout",
          "text": [
            "\n",
            "###################################################################\n",
            "Plot confusion matrix results for 3000/1000 pre-processed          \n",
            "complementNB with alpha = .07                                      \n",
            "###################################################################\n"
          ]
        },
        {
          "output_type": "display_data",
          "data": {
            "text/plain": [
              "<Figure size 432x288 with 2 Axes>"
            ],
            "image/png": "[encoded data removed]"
          },
          "metadata": {
            "needs_background": "light"
          }
        }
      ]
    }
  ]
}
