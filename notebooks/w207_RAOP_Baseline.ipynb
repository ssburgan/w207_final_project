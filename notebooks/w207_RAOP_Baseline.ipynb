{
 "cells": [
  {
   "cell_type": "markdown",
   "id": "699a07d8",
   "metadata": {},
   "source": [
    "# RAOP Baseline Notebook\n",
    "\n",
    "Shane Kramer, Monali Narayanaswami, Sybil Santos-Burgan, Jose Torres\n",
    "\n",
    "Semester: Spring 2022"
   ]
  },
  {
   "cell_type": "code",
   "execution_count": 1,
   "id": "3af915d5",
   "metadata": {},
   "outputs": [],
   "source": [
    "# This tells matplotlib not to try opening a new window for each plot.\n",
    "%matplotlib inline\n",
    "\n",
    "# General libraries.\n",
    "import re\n",
    "import numpy as np\n",
    "import pandas as pd\n",
    "import matplotlib.pyplot as plt\n",
    "\n",
    "# SK-learn libraries for learning.\n",
    "from sklearn.pipeline import Pipeline\n",
    "from sklearn.linear_model import LogisticRegression\n",
    "from sklearn.naive_bayes import MultinomialNB\n",
    "\n",
    "# SK-learn libraries for evaluation.\n",
    "from sklearn.metrics import confusion_matrix\n",
    "from sklearn import metrics\n",
    "from sklearn.metrics import classification_report\n",
    "from sklearn.model_selection import train_test_split\n",
    "from sklearn.utils import resample\n",
    "from sklearn.feature_extraction.text import *\n",
    "import nltk\n",
    "\n",
    "import json \n",
    "import pandas as pd \n",
    "from pandas import json_normalize\n",
    "import matplotlib.pyplot as plt\n",
    "import seaborn as sns"
   ]
  },
  {
   "cell_type": "markdown",
   "id": "335d1fda",
   "metadata": {},
   "source": [
    "## Load Data"
   ]
  },
  {
   "cell_type": "code",
   "execution_count": 2,
   "id": "bfba5b6c",
   "metadata": {},
   "outputs": [
    {
     "name": "stderr",
     "output_type": "stream",
     "text": [
      "<ipython-input-2-bab9c50da047>:17: SettingWithCopyWarning: \n",
      "A value is trying to be set on a copy of a slice from a DataFrame.\n",
      "Try using .loc[row_indexer,col_indexer] = value instead\n",
      "\n",
      "See the caveats in the documentation: https://pandas.pydata.org/pandas-docs/stable/user_guide/indexing.html#returning-a-view-versus-a-copy\n",
      "  filtered_df['request_text_count'] = filtered_df['request_text'].str.count(' ') + 1\n"
     ]
    },
    {
     "data": {
      "text/html": [
       "<div>\n",
       "<style scoped>\n",
       "    .dataframe tbody tr th:only-of-type {\n",
       "        vertical-align: middle;\n",
       "    }\n",
       "\n",
       "    .dataframe tbody tr th {\n",
       "        vertical-align: top;\n",
       "    }\n",
       "\n",
       "    .dataframe thead th {\n",
       "        text-align: right;\n",
       "    }\n",
       "</style>\n",
       "<table border=\"1\" class=\"dataframe\">\n",
       "  <thead>\n",
       "    <tr style=\"text-align: right;\">\n",
       "      <th></th>\n",
       "      <th>request_title</th>\n",
       "      <th>request_text</th>\n",
       "      <th>request_number_of_comments_at_retrieval</th>\n",
       "      <th>requester_received_pizza</th>\n",
       "      <th>request_text_count</th>\n",
       "    </tr>\n",
       "  </thead>\n",
       "  <tbody>\n",
       "    <tr>\n",
       "      <th>0</th>\n",
       "      <td>Request Colorado Springs Help Us Please</td>\n",
       "      <td>Hi I am in need of food for my 4 children we a...</td>\n",
       "      <td>0</td>\n",
       "      <td>False</td>\n",
       "      <td>67</td>\n",
       "    </tr>\n",
       "    <tr>\n",
       "      <th>1</th>\n",
       "      <td>[Request] California, No cash and I could use ...</td>\n",
       "      <td>I spent the last money I had on gas today. Im ...</td>\n",
       "      <td>0</td>\n",
       "      <td>False</td>\n",
       "      <td>16</td>\n",
       "    </tr>\n",
       "    <tr>\n",
       "      <th>2</th>\n",
       "      <td>[Request] Hungry couple in Dundee, Scotland wo...</td>\n",
       "      <td>My girlfriend decided it would be a good idea ...</td>\n",
       "      <td>0</td>\n",
       "      <td>False</td>\n",
       "      <td>59</td>\n",
       "    </tr>\n",
       "    <tr>\n",
       "      <th>3</th>\n",
       "      <td>[Request] In Canada (Ontario), just got home f...</td>\n",
       "      <td>It's cold, I'n hungry, and to be completely ho...</td>\n",
       "      <td>4</td>\n",
       "      <td>False</td>\n",
       "      <td>29</td>\n",
       "    </tr>\n",
       "    <tr>\n",
       "      <th>4</th>\n",
       "      <td>[Request] Old friend coming to visit. Would LO...</td>\n",
       "      <td>hey guys:\\n I love this sub. I think it's grea...</td>\n",
       "      <td>5</td>\n",
       "      <td>False</td>\n",
       "      <td>102</td>\n",
       "    </tr>\n",
       "  </tbody>\n",
       "</table>\n",
       "</div>"
      ],
      "text/plain": [
       "                                       request_title  \\\n",
       "0            Request Colorado Springs Help Us Please   \n",
       "1  [Request] California, No cash and I could use ...   \n",
       "2  [Request] Hungry couple in Dundee, Scotland wo...   \n",
       "3  [Request] In Canada (Ontario), just got home f...   \n",
       "4  [Request] Old friend coming to visit. Would LO...   \n",
       "\n",
       "                                        request_text  \\\n",
       "0  Hi I am in need of food for my 4 children we a...   \n",
       "1  I spent the last money I had on gas today. Im ...   \n",
       "2  My girlfriend decided it would be a good idea ...   \n",
       "3  It's cold, I'n hungry, and to be completely ho...   \n",
       "4  hey guys:\\n I love this sub. I think it's grea...   \n",
       "\n",
       "   request_number_of_comments_at_retrieval  requester_received_pizza  \\\n",
       "0                                        0                     False   \n",
       "1                                        0                     False   \n",
       "2                                        0                     False   \n",
       "3                                        4                     False   \n",
       "4                                        5                     False   \n",
       "\n",
       "   request_text_count  \n",
       "0                  67  \n",
       "1                  16  \n",
       "2                  59  \n",
       "3                  29  \n",
       "4                 102  "
      ]
     },
     "execution_count": 2,
     "metadata": {},
     "output_type": "execute_result"
    }
   ],
   "source": [
    "#from google.colab import drive\n",
    "#drive.mount('/content/drive')\n",
    "\n",
    "# Can configure the list below to filter columns from original training data set\n",
    "test_cols = ['request_title', 'request_text', 'request_number_of_comments_at_retrieval', 'requester_received_pizza']\n",
    "\n",
    "# Read JSON file from google drive\n",
    "#train_df = pd.read_json('/content/drive/MyDrive/W207/FinalProject/w207_final_project/src/data/train.json')\n",
    "\n",
    "# Read JSON file from data folder\n",
    "train_df = pd.read_json('../data/random-acts-of-pizza/train.json')\n",
    "test_df = pd.read_json('../data/random-acts-of-pizza/test.json')\n",
    "\n",
    "filtered_df = train_df[test_cols]\n",
    "\n",
    "# Add word count column\n",
    "filtered_df['request_text_count'] = filtered_df['request_text'].str.count(' ') + 1\n",
    "filtered_df.head()"
   ]
  },
  {
   "cell_type": "markdown",
   "id": "90607774",
   "metadata": {},
   "source": [
    "## Divide Data into Training and Test Sets"
   ]
  },
  {
   "cell_type": "code",
   "execution_count": 3,
   "id": "c9bcd26e",
   "metadata": {},
   "outputs": [],
   "source": [
    "# Now need to split into features and targets\n",
    "feature_cols = ['request_text_count', 'request_number_of_comments_at_retrieval']\n",
    "X = filtered_df[feature_cols]\n",
    "Y = filtered_df.requester_received_pizza\n",
    "\n",
    "X_train, X_test, Y_train, Y_test = train_test_split(X, Y, test_size=0.25,random_state=0)"
   ]
  },
  {
   "cell_type": "markdown",
   "id": "fc465544",
   "metadata": {},
   "source": [
    "## Examine Data"
   ]
  },
  {
   "cell_type": "code",
   "execution_count": 4,
   "id": "9851aa98",
   "metadata": {},
   "outputs": [
    {
     "name": "stdout",
     "output_type": "stream",
     "text": [
      "training data shape: (3030, 2)\n",
      "training label shape: (1010, 2)\n",
      "test data shape: (3030,)\n",
      "test label shape: (1010,)\n"
     ]
    }
   ],
   "source": [
    "print('training data shape:', X_train.shape)\n",
    "print('training label shape:', X_test.shape)\n",
    "print('test data shape:', Y_train.shape)\n",
    "print('test label shape:', Y_test.shape)\n"
   ]
  },
  {
   "cell_type": "markdown",
   "id": "e3b81b0b",
   "metadata": {},
   "source": [
    "\n",
    "For first 5 training examples, print the title of request"
   ]
  },
  {
   "cell_type": "code",
   "execution_count": 5,
   "id": "db366aa5",
   "metadata": {},
   "outputs": [
    {
     "name": "stdout",
     "output_type": "stream",
     "text": [
      "Request Colorado Springs Help Us Please\n",
      "Hi I am in need of food for my 4 children we are a military family that has really hit hard times and we have exahusted all means of help just to be able to feed my family and make it through another night is all i ask i know our blessing is coming so whatever u can find in your heart to give is greatly appreciated\n",
      "Received Pizza:  False\n",
      "\n",
      "\n",
      "[Request] California, No cash and I could use some dinner\n",
      "I spent the last money I had on gas today. Im broke until next Thursday :(\n",
      "Received Pizza:  False\n",
      "\n",
      "\n",
      "[Request] Hungry couple in Dundee, Scotland would love some pizza!\n",
      "My girlfriend decided it would be a good idea to get off at Perth bus station when she was coming to visit me and has since had to spend all her money on a taxi to get to me here in Dundee. Any chance some kind soul would get us some pizza since we don't have any cash anymore?\n",
      "Received Pizza:  False\n",
      "\n",
      "\n",
      "[Request] In Canada (Ontario), just got home from school. Need pizza.\n",
      "It's cold, I'n hungry, and to be completely honest I'm broke. My mum said we're having leftovers for dinner. A random pizza arriving would be nice.\n",
      "\n",
      "Edit: We had leftovers.\n",
      "Received Pizza:  False\n",
      "\n",
      "\n",
      "[Request] Old friend coming to visit. Would LOVE to feed her some dinner. Indiana\n",
      "hey guys:\n",
      " I love this sub. I think it's great. (Except the sob stories. I miss when this place was fun!) Anywho, I've given a pizza out before so thought I would try my luck at getting one. My friend, who lives an hour away and our schedules do not let us see each other too much, decided to come down and visit me for the night! I would love to be able to be a good host and order her a pizza to go with some beer!\n",
      "\n",
      "Again, no sob story. Just looking to share a pizza with an old friend :)\n",
      "Received Pizza:  False\n",
      "\n",
      "\n"
     ]
    }
   ],
   "source": [
    "def display_request(num_examples=5):\n",
    "\n",
    "    for i in range(num_examples):\n",
    "        print(filtered_df.iloc[i]['request_title']) \n",
    "        print(filtered_df.iloc[i]['request_text'])\n",
    "        print('Received Pizza: ', filtered_df.iloc[i]['requester_received_pizza']) \n",
    "        print('\\n')  \n",
    "\n",
    "        \n",
    "display_request(5)"
   ]
  },
  {
   "cell_type": "markdown",
   "id": "37d14d8a",
   "metadata": {},
   "source": [
    "### Review Dataset Skewness\n"
   ]
  },
  {
   "cell_type": "code",
   "execution_count": 6,
   "id": "a4effe3b",
   "metadata": {},
   "outputs": [
    {
     "data": {
      "text/plain": [
       "<AxesSubplot:xlabel='requester_received_pizza'>"
      ]
     },
     "execution_count": 6,
     "metadata": {},
     "output_type": "execute_result"
    },
    {
     "data": {
      "image/png": "[encoded data removed]",
      "text/plain": [
       "<Figure size 432x288 with 1 Axes>"
      ]
     },
     "metadata": {
      "needs_background": "light"
     },
     "output_type": "display_data"
    }
   ],
   "source": [
    "\n",
    "filtered_df.groupby('requester_received_pizza').size().plot(kind = \"bar\")\n"
   ]
  },
  {
   "cell_type": "markdown",
   "id": "1893bddc",
   "metadata": {},
   "source": [
    "## Models"
   ]
  },
  {
   "cell_type": "code",
   "execution_count": 7,
   "id": "dc4e86ab",
   "metadata": {},
   "outputs": [],
   "source": [
    "# Create and train model using train data\n",
    "#class_weights = ‘balanced’, the model automatically assigns the class weights inversely proportional to their respective frequencies.\n",
    "logreg = LogisticRegression(class_weight='balanced') \n",
    "logreg.fit(X_train,Y_train)\n",
    "Y_pred = logreg.predict(X)"
   ]
  },
  {
   "cell_type": "code",
   "execution_count": 8,
   "id": "5b41170c",
   "metadata": {},
   "outputs": [],
   "source": [
    "# Run model against test data\n",
    "Y_test_pred = logreg.predict(X_test)"
   ]
  },
  {
   "cell_type": "code",
   "execution_count": 9,
   "id": "b91234ba",
   "metadata": {},
   "outputs": [
    {
     "data": {
      "text/plain": [
       "array([[593, 172],\n",
       "       [106, 139]], dtype=int64)"
      ]
     },
     "execution_count": 9,
     "metadata": {},
     "output_type": "execute_result"
    }
   ],
   "source": [
    "# Look at confusion matrix\n",
    "cnf_matrix = metrics.confusion_matrix(Y_test, Y_test_pred)\n",
    "cnf_matrix"
   ]
  },
  {
   "cell_type": "code",
   "execution_count": 10,
   "id": "c12158b5",
   "metadata": {},
   "outputs": [
    {
     "name": "stdout",
     "output_type": "stream",
     "text": [
      "(3030,)\n"
     ]
    },
    {
     "data": {
      "image/png": "[encoded data removed]",
      "text/plain": [
       "<Figure size 432x288 with 2 Axes>"
      ]
     },
     "metadata": {
      "needs_background": "light"
     },
     "output_type": "display_data"
    }
   ],
   "source": [
    "# Plot results\n",
    "class_names=[0,1] # name  of classes\n",
    "fig, ax = plt.subplots()\n",
    "tick_marks = np.arange(len(class_names))\n",
    "plt.xticks(tick_marks, class_names)\n",
    "plt.yticks(tick_marks, class_names)\n",
    "# create heatmap\n",
    "sns.heatmap(pd.DataFrame(cnf_matrix), annot=True, cmap=\"YlGnBu\" ,fmt='g')\n",
    "ax.xaxis.set_label_position(\"top\")\n",
    "plt.tight_layout()\n",
    "plt.title('Confusion matrix', y=1.1)\n",
    "plt.ylabel('Actual label')\n",
    "plt.xlabel('Predicted label')\n",
    "print(Y_train.shape)"
   ]
  },
  {
   "cell_type": "code",
   "execution_count": 11,
   "id": "1ec3e270",
   "metadata": {},
   "outputs": [
    {
     "name": "stdout",
     "output_type": "stream",
     "text": [
      "Accuracy: 0.7247524752475247\n",
      "Precision: 0.44694533762057875\n",
      "Recall: 0.5673469387755102\n",
      "f1 score:  0.7348847589677\n"
     ]
    }
   ],
   "source": [
    "# Output results\n",
    "print(\"Accuracy:\",metrics.accuracy_score(Y_test, Y_test_pred))\n",
    "print(\"Precision:\",metrics.precision_score(Y_test, Y_test_pred))\n",
    "print(\"Recall:\",metrics.recall_score(Y_test, Y_test_pred))\n",
    "print(\"f1 score: \", metrics.f1_score(Y_test, Y_test_pred, average=\"weighted\"))"
   ]
  },
  {
   "cell_type": "markdown",
   "id": "2cca77f5",
   "metadata": {},
   "source": [
    "## Rebalancing Dataset by Manually Resampling\n",
    "* Upsampling/Oversampling\n",
    "* Downsampling/Undersampling\n",
    "* Over-sampling: SMOTE"
   ]
  },
  {
   "cell_type": "markdown",
   "id": "6bcaf377",
   "metadata": {},
   "source": [
    "### Upsampling/Oversampling\n",
    "Over-sampling involves adding more examples from the minority class"
   ]
  },
  {
   "cell_type": "code",
   "execution_count": 12,
   "id": "aa72e039",
   "metadata": {},
   "outputs": [
    {
     "name": "stdout",
     "output_type": "stream",
     "text": [
      "Resampled requester_received_pizza\n",
      "training data shape: (4562, 2)\n",
      "training label shape: (4562,)\n",
      "test label shape: (1010, 2)\n",
      "test label shape: (1010,)\n"
     ]
    }
   ],
   "source": [
    "# Now need to split into features and targets\n",
    "feature_cols = ['request_text_count', 'request_number_of_comments_at_retrieval','requester_received_pizza']\n",
    "X = filtered_df[feature_cols]\n",
    "Y = filtered_df.requester_received_pizza\n",
    "\n",
    "#split into training and test sets\n",
    "X_train, X_test, Y_train, Y_test = train_test_split(X, Y, test_size=0.25,random_state=0)\n",
    "\n",
    "# separate minority and majority classes\n",
    "negative = X_train[X_train.requester_received_pizza==0]\n",
    "positive = X_train[X_train.requester_received_pizza==1]\n",
    "\n",
    "# upsample minority\n",
    "pos_upsampled = resample(positive,replace=True, n_samples=len(negative), random_state=27) # reproducible results\n",
    "\n",
    "# combine majority and upsampled minority\n",
    "upsampled = pd.concat([negative, pos_upsampled])\n",
    "\n",
    "# check new class counts\n",
    "print('Resampled requester_received_pizza')\n",
    "upsampled.requester_received_pizza.value_counts()\n",
    "\n",
    "X_train = upsampled[feature_cols]\n",
    "Y_train = upsampled.requester_received_pizza\n",
    "X_train = X_train.drop(['requester_received_pizza'], axis=1)\n",
    "Y_test = X_test['requester_received_pizza']\n",
    "X_test = X_test.drop(['requester_received_pizza'], axis=1)\n",
    "Y = X['requester_received_pizza']\n",
    "X = X.drop(['requester_received_pizza'], axis=1)\n",
    "\n",
    "print('training data shape:', X_train.shape)\n",
    "print('training label shape:', Y_train.shape)\n",
    "\n",
    "print('test label shape:', X_test.shape)\n",
    "print('test label shape:', Y_test.shape)"
   ]
  },
  {
   "cell_type": "code",
   "execution_count": 13,
   "id": "188edcc4",
   "metadata": {},
   "outputs": [
    {
     "data": {
      "text/plain": [
       "<AxesSubplot:xlabel='requester_received_pizza'>"
      ]
     },
     "execution_count": 13,
     "metadata": {},
     "output_type": "execute_result"
    },
    {
     "data": {
      "image/png": "[encoded data removed]",
      "text/plain": [
       "<Figure size 432x288 with 1 Axes>"
      ]
     },
     "metadata": {
      "needs_background": "light"
     },
     "output_type": "display_data"
    }
   ],
   "source": [
    "upsampled.groupby('requester_received_pizza').size().plot(kind = \"bar\")"
   ]
  },
  {
   "cell_type": "markdown",
   "id": "1c79d1de",
   "metadata": {},
   "source": [
    "### Model after Oversampling Rebalance"
   ]
  },
  {
   "cell_type": "code",
   "execution_count": 14,
   "id": "4a76ec2b",
   "metadata": {},
   "outputs": [
    {
     "data": {
      "text/plain": [
       "Text(0.5, 257.44, 'Predicted label')"
      ]
     },
     "execution_count": 14,
     "metadata": {},
     "output_type": "execute_result"
    },
    {
     "data": {
      "image/png": "[encoded data removed]",
      "text/plain": [
       "<Figure size 432x288 with 2 Axes>"
      ]
     },
     "metadata": {
      "needs_background": "light"
     },
     "output_type": "display_data"
    }
   ],
   "source": [
    "# Create and train model using train data\n",
    "logreg = LogisticRegression()\n",
    "logreg.fit(X_train,Y_train)\n",
    "Y_pred = logreg.predict(X_train)\n",
    "\n",
    "# Run model against test data\n",
    "Y_test_pred = logreg.predict(X_test)\n",
    "\n",
    "# Look at confusion matrix\n",
    "cnf_matrix = metrics.confusion_matrix(Y_test, Y_test_pred)\n",
    "cnf_matrix\n",
    "\n",
    "# Plot results\n",
    "class_names=[0,1] # name  of classes\n",
    "fig, ax = plt.subplots()\n",
    "tick_marks = np.arange(len(class_names))\n",
    "plt.xticks(tick_marks, class_names)\n",
    "plt.yticks(tick_marks, class_names)\n",
    "\n",
    "# create heatmap\n",
    "sns.heatmap(pd.DataFrame(cnf_matrix), annot=True, cmap=\"YlGnBu\" ,fmt='g')\n",
    "ax.xaxis.set_label_position(\"top\")\n",
    "plt.tight_layout()\n",
    "plt.title('Confusion matrix', y=1.1)\n",
    "plt.ylabel('Actual label')\n",
    "plt.xlabel('Predicted label')"
   ]
  },
  {
   "cell_type": "code",
   "execution_count": 15,
   "id": "873393e9",
   "metadata": {},
   "outputs": [
    {
     "name": "stdout",
     "output_type": "stream",
     "text": [
      "Accuracy: 0.7257425742574257\n",
      "Precision: 0.44805194805194803\n",
      "Recall: 0.563265306122449\n",
      "f1 score:  0.7354758695563584\n"
     ]
    }
   ],
   "source": [
    "# Output results\n",
    "print(\"Accuracy:\",metrics.accuracy_score(Y_test, Y_test_pred))\n",
    "print(\"Precision:\",metrics.precision_score(Y_test, Y_test_pred))\n",
    "print(\"Recall:\",metrics.recall_score(Y_test, Y_test_pred))\n",
    "print(\"f1 score: \", metrics.f1_score(Y_test, Y_test_pred, average=\"weighted\"))"
   ]
  },
  {
   "cell_type": "markdown",
   "id": "7cbdedf0",
   "metadata": {},
   "source": [
    "### Downsampling/Undersampling\n",
    "Under sampling involves removing samples from the majority class."
   ]
  },
  {
   "cell_type": "code",
   "execution_count": 16,
   "id": "407dda64",
   "metadata": {},
   "outputs": [
    {
     "name": "stdout",
     "output_type": "stream",
     "text": [
      "Resampled requester_received_pizza\n",
      "training data shape: (1498, 2)\n",
      "training label shape: (1498,)\n",
      "test label shape: (1010, 2)\n",
      "test label shape: (1010,)\n"
     ]
    }
   ],
   "source": [
    "# Now need to split into features and targets\n",
    "feature_cols = ['request_text_count', 'request_number_of_comments_at_retrieval','requester_received_pizza']\n",
    "X = filtered_df[feature_cols]\n",
    "Y = filtered_df.requester_received_pizza\n",
    "\n",
    "#split into training and test sets\n",
    "X_train, X_test, Y_train, Y_test = train_test_split(X, Y, test_size=0.25,random_state=0)\n",
    "\n",
    "# separate minority and majority classes\n",
    "negative = X_train[X_train.requester_received_pizza==0]\n",
    "positive = X_train[X_train.requester_received_pizza==1]\n",
    "\n",
    "# downsample majority\n",
    "neg_downsampled = resample(negative,\n",
    " replace=True, # sample with replacement\n",
    " n_samples=len(positive), # match number in minority class\n",
    " random_state=27) # reproducible results\n",
    "\n",
    "# combine minority and downsampled majority\n",
    "downsampled = pd.concat([positive, neg_downsampled])\n",
    "\n",
    "# check new class counts\n",
    "print('Resampled requester_received_pizza')\n",
    "downsampled.requester_received_pizza.value_counts()\n",
    "\n",
    "X_train = downsampled[feature_cols]\n",
    "Y_train = downsampled.requester_received_pizza\n",
    "X_train = X_train.drop(['requester_received_pizza'], axis=1)\n",
    "Y_test = X_test['requester_received_pizza']\n",
    "X_test = X_test.drop(['requester_received_pizza'], axis=1)\n",
    "Y = X['requester_received_pizza']\n",
    "X = X.drop(['requester_received_pizza'], axis=1)\n",
    "\n",
    "print('training data shape:', X_train.shape)\n",
    "print('training label shape:', Y_train.shape)\n",
    "\n",
    "print('test label shape:', X_test.shape)\n",
    "print('test label shape:', Y_test.shape)"
   ]
  },
  {
   "cell_type": "code",
   "execution_count": 17,
   "id": "4018e37b",
   "metadata": {},
   "outputs": [
    {
     "data": {
      "text/plain": [
       "<AxesSubplot:xlabel='requester_received_pizza'>"
      ]
     },
     "execution_count": 17,
     "metadata": {},
     "output_type": "execute_result"
    },
    {
     "data": {
      "image/png": "[encoded data removed]",
      "text/plain": [
       "<Figure size 432x288 with 1 Axes>"
      ]
     },
     "metadata": {
      "needs_background": "light"
     },
     "output_type": "display_data"
    }
   ],
   "source": [
    "downsampled.groupby('requester_received_pizza').size().plot(kind = \"bar\")"
   ]
  },
  {
   "cell_type": "markdown",
   "id": "19f6a7f7",
   "metadata": {},
   "source": [
    "### Model after Undersampling Rebalance"
   ]
  },
  {
   "cell_type": "code",
   "execution_count": 18,
   "id": "cc230873",
   "metadata": {},
   "outputs": [
    {
     "data": {
      "text/plain": [
       "Text(0.5, 257.44, 'Predicted label')"
      ]
     },
     "execution_count": 18,
     "metadata": {},
     "output_type": "execute_result"
    },
    {
     "data": {
      "image/png": "[encoded data removed]",
      "text/plain": [
       "<Figure size 432x288 with 2 Axes>"
      ]
     },
     "metadata": {
      "needs_background": "light"
     },
     "output_type": "display_data"
    }
   ],
   "source": [
    "# Create and train model using train data\n",
    "logreg = LogisticRegression()\n",
    "logreg.fit(X_train,Y_train)\n",
    "Y_pred = logreg.predict(X_train)\n",
    "\n",
    "# Run model against test data\n",
    "Y_test_pred = logreg.predict(X_test)\n",
    "\n",
    "# Look at confusion matrix\n",
    "cnf_matrix = metrics.confusion_matrix(Y_test, Y_test_pred)\n",
    "cnf_matrix\n",
    "\n",
    "# Plot results\n",
    "class_names=[0,1] # name  of classes\n",
    "fig, ax = plt.subplots()\n",
    "tick_marks = np.arange(len(class_names))\n",
    "plt.xticks(tick_marks, class_names)\n",
    "plt.yticks(tick_marks, class_names)\n",
    "\n",
    "# create heatmap\n",
    "sns.heatmap(pd.DataFrame(cnf_matrix), annot=True, cmap=\"YlGnBu\" ,fmt='g')\n",
    "ax.xaxis.set_label_position(\"top\")\n",
    "plt.tight_layout()\n",
    "plt.title('Confusion matrix', y=1.1)\n",
    "plt.ylabel('Actual label')\n",
    "plt.xlabel('Predicted label')"
   ]
  },
  {
   "cell_type": "code",
   "execution_count": 19,
   "id": "f3054454",
   "metadata": {},
   "outputs": [
    {
     "name": "stdout",
     "output_type": "stream",
     "text": [
      "Accuracy: 0.7247524752475247\n",
      "Precision: 0.44761904761904764\n",
      "Recall: 0.5755102040816327\n",
      "f1 score:  0.7353570459785704\n"
     ]
    }
   ],
   "source": [
    "# Output results\n",
    "print(\"Accuracy:\",metrics.accuracy_score(Y_test, Y_test_pred))\n",
    "print(\"Precision:\",metrics.precision_score(Y_test, Y_test_pred))\n",
    "print(\"Recall:\",metrics.recall_score(Y_test, Y_test_pred))\n",
    "print(\"f1 score: \", metrics.f1_score(Y_test, Y_test_pred, average=\"weighted\"))"
   ]
  },
  {
   "cell_type": "markdown",
   "id": "4bb3cfd4",
   "metadata": {},
   "source": [
    "### Over-sampling: SMOTE\n",
    "SMOTE (Synthetic Minority Oversampling TEchnique) consists of synthesizing elements for the minority class."
   ]
  },
  {
   "cell_type": "code",
   "execution_count": 20,
   "id": "36e88720",
   "metadata": {},
   "outputs": [
    {
     "name": "stdout",
     "output_type": "stream",
     "text": [
      "training data shape: (4562, 2)\n",
      "training label shape: (4562,)\n",
      "test label shape: (1010, 2)\n",
      "test label shape: (1010,)\n"
     ]
    },
    {
     "data": {
      "image/png": "[encoded data removed]",
      "text/plain": [
       "<Figure size 432x288 with 1 Axes>"
      ]
     },
     "metadata": {
      "needs_background": "light"
     },
     "output_type": "display_data"
    }
   ],
   "source": [
    "from imblearn.over_sampling import SMOTE\n",
    "\n",
    "# Now need to split into features and targets\n",
    "feature_cols = ['request_text_count', 'request_number_of_comments_at_retrieval','requester_received_pizza']\n",
    "X = filtered_df[feature_cols]\n",
    "Y = filtered_df.requester_received_pizza\n",
    "\n",
    "#split into training and test sets\n",
    "X_train, X_test, Y_train, Y_test = train_test_split(X, Y, test_size=0.25,random_state=0)\n",
    "\n",
    "sm = SMOTE(random_state=42)\n",
    "X_train, Y_train = sm.fit_resample(X_train, Y_train)\n",
    "\n",
    "X_train.groupby('requester_received_pizza').size().plot(kind = \"bar\")\n",
    "\n",
    "Y_train = X_train['requester_received_pizza']\n",
    "X_train = X_train.drop(['requester_received_pizza'], axis=1)\n",
    "Y_test = X_test['requester_received_pizza']\n",
    "X_test = X_test.drop(['requester_received_pizza'], axis=1)\n",
    "Y = X['requester_received_pizza']\n",
    "X = X.drop(['requester_received_pizza'], axis=1)\n",
    "\n",
    "print('training data shape:', X_train.shape)\n",
    "print('training label shape:', Y_train.shape)\n",
    "print('test label shape:', X_test.shape)\n",
    "print('test label shape:', Y_test.shape)\n",
    "\n"
   ]
  },
  {
   "cell_type": "markdown",
   "id": "58d520d1",
   "metadata": {},
   "source": [
    "### Model after SMOTE Rebalance"
   ]
  },
  {
   "cell_type": "code",
   "execution_count": 21,
   "id": "316f486a",
   "metadata": {},
   "outputs": [
    {
     "data": {
      "text/plain": [
       "Text(0.5, 257.44, 'Predicted label')"
      ]
     },
     "execution_count": 21,
     "metadata": {},
     "output_type": "execute_result"
    },
    {
     "data": {
      "image/png": "[encoded data removed]",
      "text/plain": [
       "<Figure size 432x288 with 2 Axes>"
      ]
     },
     "metadata": {
      "needs_background": "light"
     },
     "output_type": "display_data"
    }
   ],
   "source": [
    "# Create and train model using train data\n",
    "logreg = LogisticRegression()\n",
    "logreg.fit(X_train,Y_train)\n",
    "Y_pred = logreg.predict(X_train)\n",
    "\n",
    "# Run model against test data\n",
    "Y_test_pred = logreg.predict(X_test)\n",
    "\n",
    "# Look at confusion matrix\n",
    "cnf_matrix = metrics.confusion_matrix(Y_test, Y_test_pred)\n",
    "cnf_matrix\n",
    "\n",
    "# Plot results\n",
    "class_names=[0,1] # name  of classes\n",
    "fig, ax = plt.subplots()\n",
    "tick_marks = np.arange(len(class_names))\n",
    "plt.xticks(tick_marks, class_names)\n",
    "plt.yticks(tick_marks, class_names)\n",
    "\n",
    "# create heatmap\n",
    "sns.heatmap(pd.DataFrame(cnf_matrix), annot=True, cmap=\"YlGnBu\" ,fmt='g')\n",
    "ax.xaxis.set_label_position(\"top\")\n",
    "plt.tight_layout()\n",
    "plt.title('Confusion matrix', y=1.1)\n",
    "plt.ylabel('Actual label')\n",
    "plt.xlabel('Predicted label')"
   ]
  },
  {
   "cell_type": "code",
   "execution_count": 22,
   "id": "92862c12",
   "metadata": {},
   "outputs": [
    {
     "name": "stdout",
     "output_type": "stream",
     "text": [
      "Accuracy: 0.7178217821782178\n",
      "Precision: 0.4375\n",
      "Recall: 0.5714285714285714\n",
      "f1 score:  0.729277790474057\n"
     ]
    }
   ],
   "source": [
    "# Output results\n",
    "print(\"Accuracy:\",metrics.accuracy_score(Y_test, Y_test_pred))\n",
    "print(\"Precision:\",metrics.precision_score(Y_test, Y_test_pred))\n",
    "print(\"Recall:\",metrics.recall_score(Y_test, Y_test_pred))\n",
    "print(\"f1 score: \", metrics.f1_score(Y_test, Y_test_pred, average=\"weighted\"))"
   ]
  },
  {
   "cell_type": "code",
   "execution_count": null,
   "id": "13f71adf",
   "metadata": {},
   "outputs": [],
   "source": []
  }
 ],
 "metadata": {
  "kernelspec": {
   "display_name": "Python 3",
   "language": "python",
   "name": "python3"
  },
  "language_info": {
   "codemirror_mode": {
    "name": "ipython",
    "version": 3
   },
   "file_extension": ".py",
   "mimetype": "text/x-python",
   "name": "python",
   "nbconvert_exporter": "python",
   "pygments_lexer": "ipython3",
   "version": "3.8.10"
  }
 },
 "nbformat": 4,
 "nbformat_minor": 5
}
