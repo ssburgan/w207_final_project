{
  "nbformat": 4,
  "nbformat_minor": 0,
  "metadata": {
    "colab": {
      "name": "RAOP_Ensemble_A.ipynb",
      "provenance": [],
      "collapsed_sections": []
    },
    "kernelspec": {
      "name": "python3",
      "display_name": "Python 3"
    },
    "language_info": {
      "name": "python"
    }
  },
  "cells": [
    {
      "cell_type": "markdown",
      "source": [
        "\n",
        "### Random Acts of Pizza\n",
        "### Sybil Santos-Burgan, Shane Kramer, Monali, Jose Torres\n",
        "### 207 Final Project Scratchpad\n",
        "### 03.28.22 - Ensemble A"
      ],
      "metadata": {
        "id": "duMM3e0rVSxV"
      }
    },
    {
      "cell_type": "code",
      "execution_count": 186,
      "metadata": {
        "id": "X7HsAnQDVLRO"
      },
      "outputs": [],
      "source": [
        "import re\n",
        "import numpy as np \n",
        "import pandas as pd \n",
        "import json\n",
        "import nltk \n",
        "from pandas import json_normalize\n",
        "from nltk.corpus import stopwords\n",
        "from nltk.stem.porter import PorterStemmer\n",
        "from sklearn.linear_model import LogisticRegression\n",
        "from sklearn import metrics\n",
        "from sklearn.metrics import classification_report\n",
        "from sklearn.model_selection import train_test_split\n",
        "from sklearn.feature_extraction.text import *\n",
        "from sklearn.naive_bayes import MultinomialNB\n",
        "from sklearn.naive_bayes import ComplementNB\n",
        "from sklearn.naive_bayes import GaussianNB\n",
        "from sklearn.model_selection import GridSearchCV\n",
        "from sklearn.tree import DecisionTreeClassifier\n",
        "from sklearn.ensemble import RandomForestClassifier\n",
        "from sklearn import svm\n",
        "from sklearn.ensemble import VotingClassifier\n",
        "import matplotlib.pyplot as plt\n",
        "import seaborn as sns\n"
      ]
    },
    {
      "cell_type": "code",
      "source": [
        "from google.colab import drive\n",
        "drive.mount('/content/drive')"
      ],
      "metadata": {
        "colab": {
          "base_uri": "https://localhost:8080/"
        },
        "id": "WaQk-cHyVacz",
        "outputId": "879e7dea-0886-4f3b-937f-47962ae15d58"
      },
      "execution_count": 2,
      "outputs": [
        {
          "output_type": "stream",
          "name": "stdout",
          "text": [
            "Mounted at /content/drive\n"
          ]
        }
      ]
    },
    {
      "cell_type": "code",
      "source": [
        "# Read JSON file\n",
        "df = pd.read_json('/content/drive/MyDrive/W207/FinalProject/w207_final_project/src/data/train.json')\n",
        "\n",
        "# For the entire training set, add column for request text count, create label obejct, \n",
        "# And purge the request_texct_count column from training data\n",
        "full_df = df.copy()\n",
        "full_df['request_text_count'] = df['request_text'].str.count(' ') + 1\n",
        "full_labels = full_df['requester_received_pizza']\n",
        "full_df = full_df.drop('requester_received_pizza', axis=1)\n",
        "\n",
        "dev_size=1000\n",
        "\n",
        "# Build train and dev data sets\n",
        "LR_train_data, LR_train_labels = full_df[dev_size:], full_labels[dev_size:]\n",
        "LR_dev_data, LR_dev_labels = full_df[:dev_size], full_labels[:dev_size]\n",
        "\n",
        "NB_train_data, NB_train_labels = full_df.request_text[dev_size:], full_labels[dev_size:]\n",
        "NB_dev_data, NB_dev_labels = full_df.request_text[:dev_size], full_labels[:dev_size]\n",
        "\n",
        "SVM_train_data, SVM_train_labels = full_df[dev_size:], full_labels[dev_size:]\n",
        "SVM_dev_data, SVM_dev_labels = full_df[:dev_size], full_labels[:dev_size]\n",
        "\n"
      ],
      "metadata": {
        "id": "PT0K-kniVdNV"
      },
      "execution_count": 79,
      "outputs": []
    },
    {
      "cell_type": "code",
      "source": [
        "##### Confusion Matrix Function #####\n",
        "def plotConfusionMatrix(cnf_matrix):\n",
        "  # Plot results\n",
        "  class_names=[0,1] # name  of classes\n",
        "  fig, ax = plt.subplots()\n",
        "  tick_marks = np.arange(len(class_names))\n",
        "  plt.xticks(tick_marks, class_names)\n",
        "  plt.yticks(tick_marks, class_names)\n",
        "\n",
        "  # create heatmap\n",
        "  sns.heatmap(pd.DataFrame(cnf_matrix), annot=True, cmap=\"YlGnBu\" ,fmt='g')\n",
        "  ax.xaxis.set_label_position(\"top\")\n",
        "  plt.tight_layout()\n",
        "  plt.title('Confusion matrix', y=1.1)\n",
        "  plt.ylabel('Actual label')\n",
        "  plt.xlabel('Predicted label')"
      ],
      "metadata": {
        "id": "zBszuVzfWrme"
      },
      "execution_count": 50,
      "outputs": []
    },
    {
      "cell_type": "code",
      "source": [
        "###################################################################\n",
        "# Linear Regression\n",
        "###################################################################\n",
        "# Now need to split into features and targets\n",
        "feature_cols = ['request_text_count', \n",
        "                'number_of_upvotes_of_request_at_retrieval',\n",
        "                'request_number_of_comments_at_retrieval',\n",
        "                'requester_account_age_in_days_at_retrieval',\n",
        "                'requester_days_since_first_post_on_raop_at_retrieval',\n",
        "                'requester_number_of_comments_at_retrieval',\n",
        "                'requester_number_of_comments_in_raop_at_request',\n",
        "                'requester_number_of_comments_in_raop_at_retrieval',\n",
        "                'requester_number_of_posts_on_raop_at_request',\n",
        "                'requester_number_of_posts_on_raop_at_retrieval', \n",
        "                ]\n",
        "\n",
        "X = LR_train_data[feature_cols]\n",
        "Y = LR_train_labels\n",
        "\n",
        "# Create and train model using train data\n",
        "# Had to set max_iter to a really high number for LR to work with so many dimensions\n",
        "logreg = LogisticRegression(class_weight='balanced', max_iter=10000)\n",
        "logreg.fit(X, Y)\n",
        "\n",
        "# Run model against real dev data\n",
        "X_dev = LR_dev_data[feature_cols]\n",
        "Y_dev_LRPred = logreg.predict(X_dev)\n",
        "\n",
        "# Score linear model against dev data\n",
        "print(\"\")\n",
        "print(\"###################################################################\")\n",
        "print(\"Tuned Linear Regression Metrics & Confusion Matrix Against Dev Data\")\n",
        "print(\"###################################################################\")\n",
        "cnf_matrix = metrics.confusion_matrix(LR_dev_labels, Y_dev_LRPred)\n",
        "plotConfusionMatrix(cnf_matrix)\n",
        "\n",
        "fpr, tpr, thresholds = metrics.roc_curve(LR_dev_labels, Y_dev_LRPred, pos_label=1)\n",
        "print(\"AUC: \", metrics.auc(fpr, tpr))\n",
        "\n",
        "print(\"Accuracy:\",metrics.accuracy_score(LR_dev_labels, Y_dev_LRPred))\n",
        "print(classification_report(LR_dev_labels, Y_dev_LRPred))"
      ],
      "metadata": {
        "colab": {
          "base_uri": "https://localhost:8080/",
          "height": 585
        },
        "id": "3VjCl8liVki7",
        "outputId": "ac3914e1-d50e-4a54-9106-e8de691a5ad2"
      },
      "execution_count": 173,
      "outputs": [
        {
          "output_type": "stream",
          "name": "stdout",
          "text": [
            "\n",
            "###################################################################\n",
            "Tuned Linear Regression Metrics & Confusion Matrix Against Dev Data\n",
            "###################################################################\n",
            "AUC:  0.7603430353430354\n",
            "Accuracy: 0.793\n",
            "              precision    recall  f1-score   support\n",
            "\n",
            "       False       0.88      0.83      0.86       740\n",
            "        True       0.59      0.69      0.63       260\n",
            "\n",
            "    accuracy                           0.79      1000\n",
            "   macro avg       0.74      0.76      0.75      1000\n",
            "weighted avg       0.81      0.79      0.80      1000\n",
            "\n"
          ]
        },
        {
          "output_type": "display_data",
          "data": {
            "text/plain": [
              "<Figure size 432x288 with 2 Axes>"
            ],
            "image/png": "[encoded data removed]"
          },
          "metadata": {
            "needs_background": "light"
          }
        }
      ]
    },
    {
      "cell_type": "code",
      "source": [
        "###################################################################\n",
        "# Pre-Processor for NB\n",
        "###################################################################\n",
        "nltk.download('stopwords')\n",
        "    \n",
        "cachedStopWords = stopwords.words(\"english\")\n",
        "ps = PorterStemmer()\n",
        "\n",
        "def myPreprocessor(data):\n",
        "   filteredData = re.sub('[^A-Za-z0-9 \\n]+', ' ', data.lower())\n",
        "   filteredData = ' '.join([word for word in filteredData.split() \n",
        "      if word not in cachedStopWords])\n",
        "   filteredData = ' '.join([word[0:6] if len(word) > 6 else \n",
        "                            word for word in filteredData.split()])\n",
        "   return filteredData"
      ],
      "metadata": {
        "colab": {
          "base_uri": "https://localhost:8080/"
        },
        "id": "U8STqOebcXKD",
        "outputId": "05743c7d-2bb3-440f-8626-4a87a75653c9"
      },
      "execution_count": 52,
      "outputs": [
        {
          "output_type": "stream",
          "name": "stdout",
          "text": [
            "[nltk_data] Downloading package stopwords to /root/nltk_data...\n",
            "[nltk_data]   Package stopwords is already up-to-date!\n"
          ]
        }
      ]
    },
    {
      "cell_type": "code",
      "source": [
        "###################################################################\n",
        "# Naive Bayes - Complement NB + Alpha = .07\n",
        "###################################################################\n",
        "ppVectorizer = CountVectorizer(preprocessor=myPreprocessor)\n",
        "ppTrainVector = ppVectorizer.fit_transform(NB_train_data)\n",
        "ppDevVector = ppVectorizer.transform(NB_dev_data)\n",
        "\n",
        "mnb = ComplementNB(alpha = .07)\n",
        "mnb.fit(ppTrainVector, NB_train_labels)\n",
        "\n",
        "Y_dev_NBPred = mnb.predict(ppDevVector)\n",
        "\n",
        "# Score Naive Bayes against dev data\n",
        "print(\"\")\n",
        "print(\"###################################################################\")\n",
        "print(\"Tuned Naive Bayes Metrics & Confusion Matrix Against Dev Data\")\n",
        "print(\"###################################################################\")\n",
        "cnf_matrix = metrics.confusion_matrix(NB_dev_labels, Y_dev_NBPred)\n",
        "plotConfusionMatrix(cnf_matrix)\n",
        "\n",
        "fpr, tpr, thresholds = metrics.roc_curve(NB_dev_labels, Y_dev_NBPred, pos_label=1)\n",
        "print(\"AUC: \", metrics.auc(fpr, tpr))\n",
        "\n",
        "print(\"Accuracy:\",metrics.accuracy_score(NB_dev_labels, Y_dev_NBPred))\n",
        "print(classification_report(NB_dev_labels, Y_dev_NBPred))"
      ],
      "metadata": {
        "colab": {
          "base_uri": "https://localhost:8080/",
          "height": 585
        },
        "id": "YdTQsJ5xbVgG",
        "outputId": "466439b2-d7de-4b6a-b724-9a964f333c4d"
      },
      "execution_count": 85,
      "outputs": [
        {
          "output_type": "stream",
          "name": "stdout",
          "text": [
            "\n",
            "###################################################################\n",
            "Tuned Naive Bayes Metrics & Confusion Matrix Against Dev Data\n",
            "###################################################################\n",
            "AUC:  0.512993762993763\n",
            "Accuracy: 0.63\n",
            "              precision    recall  f1-score   support\n",
            "\n",
            "       False       0.75      0.76      0.75       740\n",
            "        True       0.28      0.27      0.27       260\n",
            "\n",
            "    accuracy                           0.63      1000\n",
            "   macro avg       0.51      0.51      0.51      1000\n",
            "weighted avg       0.63      0.63      0.63      1000\n",
            "\n"
          ]
        },
        {
          "output_type": "display_data",
          "data": {
            "text/plain": [
              "<Figure size 432x288 with 2 Axes>"
            ],
            "image/png": "[encoded data removed]"
          },
          "metadata": {
            "needs_background": "light"
          }
        }
      ]
    },
    {
      "cell_type": "code",
      "source": [
        "###################################################################\n",
        "# SVM - Linear - Text count + number of comments\n",
        "###################################################################\n",
        "feature_cols = ['request_text_count', \n",
        "                'requester_number_of_posts_on_raop_at_retrieval',\n",
        "                'requester_number_of_comments_at_retrieval'\n",
        "               ]\n",
        "\n",
        "X = SVM_train_data[feature_cols]\n",
        "Y = SVM_train_labels\n",
        "X_dev = SVM_dev_data[feature_cols]\n",
        "\n",
        "clf = svm.SVC(kernel='linear', probability=True) # Linear Kernel\n",
        "clf.fit(X, Y)\n",
        "Y_dev_SVMPred = clf.predict(X_dev)\n",
        "\n",
        "# Score LVM against dev data\n",
        "print(\"\")\n",
        "print(\"###################################################################\")\n",
        "print(\"Tuned SVM Metrics & Confusion Matrix Against Dev Data\")\n",
        "print(\"###################################################################\")\n",
        "cnf_matrix = metrics.confusion_matrix(SVM_dev_labels, Y_dev_SVMPred)\n",
        "plotConfusionMatrix(cnf_matrix)\n",
        "\n",
        "fpr, tpr, thresholds = metrics.roc_curve(SVM_dev_labels, Y_dev_SVMPred, pos_label=1)\n",
        "print(\"AUC: \", metrics.auc(fpr, tpr))\n",
        "\n",
        "print(\"Accuracy:\",metrics.accuracy_score(SVM_dev_labels, Y_dev_SVMPred))\n",
        "print(classification_report(SVM_dev_labels, Y_dev_SVMPred))"
      ],
      "metadata": {
        "colab": {
          "base_uri": "https://localhost:8080/",
          "height": 585
        },
        "id": "_pVQrEbagutN",
        "outputId": "84f3f691-f95c-48e9-f67c-8f34dea8b7f1"
      },
      "execution_count": 158,
      "outputs": [
        {
          "output_type": "stream",
          "name": "stdout",
          "text": [
            "\n",
            "###################################################################\n",
            "Tuned SVM Metrics & Confusion Matrix Against Dev Data\n",
            "###################################################################\n",
            "AUC:  0.7126299376299376\n",
            "Accuracy: 0.811\n",
            "              precision    recall  f1-score   support\n",
            "\n",
            "       False       0.84      0.92      0.88       740\n",
            "        True       0.68      0.51      0.58       260\n",
            "\n",
            "    accuracy                           0.81      1000\n",
            "   macro avg       0.76      0.71      0.73      1000\n",
            "weighted avg       0.80      0.81      0.80      1000\n",
            "\n"
          ]
        },
        {
          "output_type": "display_data",
          "data": {
            "text/plain": [
              "<Figure size 432x288 with 2 Axes>"
            ],
            "image/png": "[encoded data removed]"
          },
          "metadata": {
            "needs_background": "light"
          }
        }
      ]
    },
    {
      "cell_type": "code",
      "source": [
        "###################################################################\n",
        "# Random Forest - Tuned - depth=20, random state = 0, classweights75/25\n",
        "###################################################################\n",
        "X = LR_train_data[feature_cols]\n",
        "Y = LR_train_labels\n",
        "X_test = LR_dev_data[feature_cols]\n",
        "\n",
        "classWeights =  {0: .75,\n",
        "                 1: .25}\n",
        "                \n",
        "rfc = RandomForestClassifier(max_depth = 20, random_state=0, class_weight=classWeights)\n",
        "\n",
        "rfc.fit(X, Y)\n",
        "Y_dev_RF_pred = rfc.predict(X_test)\n",
        "\n",
        "# Score Ensemble against dev data\n",
        "print(\"\")\n",
        "print(\"###################################################################\")\n",
        "print(\"Random Forest Metrics & Confusion Matrix Against Dev Data\")\n",
        "print(\"###################################################################\")\n",
        "cnf_matrix = metrics.confusion_matrix(NB_dev_labels, Y_dev_RF_pred)\n",
        "plotConfusionMatrix(cnf_matrix)\n",
        "\n",
        "fpr, tpr, thresholds = metrics.roc_curve(NB_dev_labels, Y_dev_RF_pred, pos_label=1)\n",
        "print(\"AUC: \", metrics.auc(fpr, tpr))\n",
        "print(\"Accuracy:\",metrics.accuracy_score(SVM_dev_labels, Y_dev_RF_pred))\n",
        "print(classification_report(SVM_dev_labels, Y_dev_RF_pred))"
      ],
      "metadata": {
        "colab": {
          "base_uri": "https://localhost:8080/",
          "height": 585
        },
        "id": "igK6hgGWHotJ",
        "outputId": "f6768b20-9fc0-445c-f1c8-3afe53fc7bab"
      },
      "execution_count": 224,
      "outputs": [
        {
          "output_type": "stream",
          "name": "stdout",
          "text": [
            "\n",
            "###################################################################\n",
            "Ensemble Metrics & Confusion Matrix Against Dev Data\n",
            "###################################################################\n",
            "AUC:  0.7514033264033264\n",
            "Accuracy: 0.837\n",
            "              precision    recall  f1-score   support\n",
            "\n",
            "       False       0.86      0.93      0.89       740\n",
            "        True       0.74      0.57      0.65       260\n",
            "\n",
            "    accuracy                           0.84      1000\n",
            "   macro avg       0.80      0.75      0.77      1000\n",
            "weighted avg       0.83      0.84      0.83      1000\n",
            "\n"
          ]
        },
        {
          "output_type": "display_data",
          "data": {
            "text/plain": [
              "<Figure size 432x288 with 2 Axes>"
            ],
            "image/png": "[encoded data removed]"
          },
          "metadata": {
            "needs_background": "light"
          }
        }
      ]
    },
    {
      "cell_type": "code",
      "source": [
        "###################################################################\n",
        "# HOME-MADE ENSEMBLE & TEST\n",
        "###################################################################\n",
        "\n",
        "Y_dev_EnsemblePred = (Y_dev_LRPred.astype(int) * 8) + \\\n",
        "                     (Y_dev_NBPred.astype(int) * 5) + \\\n",
        "                     (Y_dev_SVMPred.astype(int) * 8) + \\\n",
        "                     (Y_dev_RF_pred.astype(int) * 8)\n",
        "\n",
        "for index, prediction in enumerate(Y_dev_EnsemblePred):\n",
        "  if prediction >=15:\n",
        "    Y_dev_EnsemblePred[index] = 1\n",
        "  else:\n",
        "    Y_dev_EnsemblePred[index] = 0\n",
        "\n",
        "# Score Ensemble against dev data\n",
        "print(\"\")\n",
        "print(\"###################################################################\")\n",
        "print(\"Home-made Ensemble Metrics & Confusion Matrix Against Dev Data\")\n",
        "print(\"###################################################################\")\n",
        "cnf_matrix = metrics.confusion_matrix(NB_dev_labels, Y_dev_EnsemblePred)\n",
        "plotConfusionMatrix(cnf_matrix)\n",
        "\n",
        "fpr, tpr, thresholds = metrics.roc_curve(NB_dev_labels, Y_dev_EnsemblePred, pos_label=1)\n",
        "print(\"AUC: \", metrics.auc(fpr, tpr))\n",
        "\n",
        "print(\"Accuracy:\",metrics.accuracy_score(SVM_dev_labels, Y_dev_EnsemblePred))\n",
        "print(classification_report(SVM_dev_labels, Y_dev_EnsemblePred))"
      ],
      "metadata": {
        "colab": {
          "base_uri": "https://localhost:8080/",
          "height": 585
        },
        "id": "yXGT_o6DfdpH",
        "outputId": "3ace3c5f-e9b7-48b6-a7b2-55f6b0deb6ac"
      },
      "execution_count": 229,
      "outputs": [
        {
          "output_type": "stream",
          "name": "stdout",
          "text": [
            "\n",
            "###################################################################\n",
            "Home-made Ensemble Metrics & Confusion Matrix Against Dev Data\n",
            "###################################################################\n",
            "AUC:  0.7478170478170479\n",
            "Accuracy: 0.828\n",
            "              precision    recall  f1-score   support\n",
            "\n",
            "       False       0.86      0.91      0.89       740\n",
            "        True       0.71      0.58      0.64       260\n",
            "\n",
            "    accuracy                           0.83      1000\n",
            "   macro avg       0.78      0.75      0.76      1000\n",
            "weighted avg       0.82      0.83      0.82      1000\n",
            "\n"
          ]
        },
        {
          "output_type": "display_data",
          "data": {
            "text/plain": [
              "<Figure size 432x288 with 2 Axes>"
            ],
            "image/png": "[encoded data removed]"
          },
          "metadata": {
            "needs_background": "light"
          }
        }
      ]
    },
    {
      "cell_type": "code",
      "source": [
        "###################################################################\n",
        "# Scores function, pulled from \n",
        "#   https://machinelearningmastery.com/weighted-average-ensemble-with-python/\n",
        "###################################################################\n",
        "\n",
        "def evaluate_models(models, X_train, X_val, y_train, y_val):\n",
        "\t# fit and evaluate the models\n",
        "\tscores = list()\n",
        "\tfor name, model in models:\n",
        "\t\t# fit the model\n",
        "\t\tmodel.fit(X_train, y_train)\n",
        "\t\t# evaluate the model\n",
        "\t\tyhat = model.predict(X_val)\n",
        "\t\tfpr, tpr, thresholds = metrics.roc_curve(y_val, yhat, pos_label=1)\n",
        "   \t# store the performance\n",
        "\t\tscores.append(metrics.auc(fpr, tpr))\n",
        "\t\t# report model performance\n",
        "\treturn scores"
      ],
      "metadata": {
        "id": "UtFz0tfaDGBT"
      },
      "execution_count": 167,
      "outputs": []
    },
    {
      "cell_type": "code",
      "source": [
        "\n",
        "\n",
        "###################################################################\n",
        "# Scikit ENSEMBLE (soft voting) & TEST\n",
        "###################################################################\n",
        "scores= [.8, .8]\n",
        "models = list()\n",
        "models.append(('lr', logreg))\n",
        "models.append(('rfc', rfc))\n",
        "#models.append(('svm', svm))\n",
        "\n",
        "X = LR_train_data[feature_cols]\n",
        "Y = LR_train_labels\n",
        "X_test = LR_dev_data[feature_cols]\n",
        "#scores = evaluate_models(models, X , Y, X_test, LR_dev_labels)\n",
        "\n",
        "ensemble = VotingClassifier(estimators=models, voting='soft', weights=scores)\n",
        "ensemble.fit(X, Y)\n",
        "ensemble_pred = ensemble.predict(X_test)\n",
        "\n",
        "# Score Ensemble against dev data\n",
        "print(\"\")\n",
        "print(\"###################################################################\")\n",
        "print(\"Scikit Ensemble Metrics & Confusion Matrix Against Dev Data\")\n",
        "print(\"###################################################################\")\n",
        "cnf_matrix = metrics.confusion_matrix(NB_dev_labels, ensemble_pred)\n",
        "plotConfusionMatrix(cnf_matrix)\n",
        "\n",
        "fpr, tpr, thresholds = metrics.roc_curve(NB_dev_labels, ensemble_pred, pos_label=1)\n",
        "print(\"AUC: \", metrics.auc(fpr, tpr))\n",
        "\n",
        "print(\"Accuracy:\",metrics.accuracy_score(SVM_dev_labels, ensemble_pred))\n",
        "print(classification_report(SVM_dev_labels, ensemble_pred))"
      ],
      "metadata": {
        "colab": {
          "base_uri": "https://localhost:8080/",
          "height": 585
        },
        "id": "MumfXfr9Ca7s",
        "outputId": "360fba20-a815-41b0-eea6-8087ac641855"
      },
      "execution_count": 231,
      "outputs": [
        {
          "output_type": "stream",
          "name": "stdout",
          "text": [
            "\n",
            "###################################################################\n",
            "Ensemble Metrics & Confusion Matrix Against Dev Data\n",
            "###################################################################\n",
            "AUC:  0.7670997920997921\n",
            "Accuracy: 0.827\n",
            "              precision    recall  f1-score   support\n",
            "\n",
            "       False       0.88      0.89      0.88       740\n",
            "        True       0.68      0.64      0.66       260\n",
            "\n",
            "    accuracy                           0.83      1000\n",
            "   macro avg       0.78      0.77      0.77      1000\n",
            "weighted avg       0.82      0.83      0.83      1000\n",
            "\n"
          ]
        },
        {
          "output_type": "display_data",
          "data": {
            "text/plain": [
              "<Figure size 432x288 with 2 Axes>"
            ],
            "image/png": "[encoded data removed]"
          },
          "metadata": {
            "needs_background": "light"
          }
        }
      ]
    }
  ]
}