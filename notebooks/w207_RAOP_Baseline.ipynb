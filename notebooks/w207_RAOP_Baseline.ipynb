{
 "cells": [
  {
   "cell_type": "markdown",
   "id": "699a07d8",
   "metadata": {},
   "source": [
    "### RAOP Baseline Notebook\n",
    "\n",
    "Jose Torres, Shane Kramer, Monali Narayanaswami, Sybil Santos-Burgan\n",
    "\n",
    "Semester: Spring 2022"
   ]
  },
  {
   "cell_type": "code",
   "execution_count": 1,
   "id": "3af915d5",
   "metadata": {},
   "outputs": [],
   "source": [
    "# This tells matplotlib not to try opening a new window for each plot.\n",
    "%matplotlib inline\n",
    "\n",
    "# General libraries.\n",
    "import re\n",
    "import numpy as np\n",
    "import pandas as pd\n",
    "import matplotlib.pyplot as plt\n",
    "\n",
    "# SK-learn libraries for learning.\n",
    "from sklearn.pipeline import Pipeline\n",
    "from sklearn.linear_model import LogisticRegression\n",
    "from sklearn.naive_bayes import MultinomialNB\n",
    "\n",
    "# SK-learn libraries for evaluation.\n",
    "from sklearn.metrics import confusion_matrix\n",
    "from sklearn import metrics\n",
    "from sklearn.metrics import classification_report\n",
    "from sklearn.model_selection import train_test_split\n",
    "from sklearn.feature_extraction.text import *\n",
    "import nltk\n",
    "\n",
    "import json \n",
    "import pandas as pd \n",
    "from pandas import json_normalize\n",
    "import matplotlib.pyplot as plt\n",
    "import seaborn as sns"
   ]
  },
  {
   "cell_type": "markdown",
   "id": "335d1fda",
   "metadata": {},
   "source": [
    "### Load Data"
   ]
  },
  {
   "cell_type": "code",
   "execution_count": 2,
   "id": "1bc4996e",
   "metadata": {},
   "outputs": [],
   "source": [
    "#from google.colab import drive\n",
    "#drive.mount('/content/drive')"
   ]
  },
  {
   "cell_type": "code",
   "execution_count": 3,
   "id": "bfba5b6c",
   "metadata": {},
   "outputs": [],
   "source": [
    "#Load training data\n",
    "with open('../data/random-acts-of-pizza/train.json') as f:\n",
    "    train_json = json.load(f)\n",
    "    \n",
    "# Load test data\n",
    "with open('../data/random-acts-of-pizza/test.json') as f:\n",
    "    test_json = json.load(f)\n"
   ]
  },
  {
   "cell_type": "markdown",
   "id": "15718056",
   "metadata": {},
   "source": [
    "### Clean Input"
   ]
  },
  {
   "cell_type": "code",
   "execution_count": 4,
   "id": "6b751276",
   "metadata": {},
   "outputs": [],
   "source": [
    "train = json_normalize(train_json)\n",
    "test = json_normalize(test_json)\n",
    "\n",
    "\n"
   ]
  },
  {
   "cell_type": "markdown",
   "id": "90607774",
   "metadata": {},
   "source": [
    "### Divide data into training and dev sets"
   ]
  },
  {
   "cell_type": "code",
   "execution_count": 5,
   "id": "c9bcd26e",
   "metadata": {},
   "outputs": [
    {
     "name": "stderr",
     "output_type": "stream",
     "text": [
      "<ipython-input-5-ad3163804226>:29: SettingWithCopyWarning: \n",
      "A value is trying to be set on a copy of a slice from a DataFrame.\n",
      "Try using .loc[row_indexer,col_indexer] = value instead\n",
      "\n",
      "See the caveats in the documentation: https://pandas.pydata.org/pandas-docs/stable/user_guide/indexing.html#returning-a-view-versus-a-copy\n",
      "  filtered_df['request_text_count'] = filtered_df['request_text'].str.count(' ') + 1\n",
      "<ipython-input-5-ad3163804226>:30: SettingWithCopyWarning: \n",
      "A value is trying to be set on a copy of a slice from a DataFrame.\n",
      "Try using .loc[row_indexer,col_indexer] = value instead\n",
      "\n",
      "See the caveats in the documentation: https://pandas.pydata.org/pandas-docs/stable/user_guide/indexing.html#returning-a-view-versus-a-copy\n",
      "  filtered_df_dev['request_text_count'] = filtered_df_dev['request_text'].str.count(' ') + 1\n",
      "<ipython-input-5-ad3163804226>:31: SettingWithCopyWarning: \n",
      "A value is trying to be set on a copy of a slice from a DataFrame.\n",
      "Try using .loc[row_indexer,col_indexer] = value instead\n",
      "\n",
      "See the caveats in the documentation: https://pandas.pydata.org/pandas-docs/stable/user_guide/indexing.html#returning-a-view-versus-a-copy\n",
      "  filtered_df_test['request_text_count'] = filtered_df_test['request_text'].str.count(' ') + 1\n"
     ]
    }
   ],
   "source": [
    "# train_data = train[:2800]\n",
    "# train_labels = train[:2800]['requester_received_pizza']\n",
    "# test_data = test[:]\n",
    "\n",
    "# dev_data = train[2800:]\n",
    "# dev_labels = train[2800:]['requester_received_pizza']\n",
    "\n",
    "\n",
    "\n",
    "\n",
    "\n",
    "train_data, test_data, train_labels, test_labels = train_test_split(train, train['requester_received_pizza'], test_size=0.25,random_state=0)\n",
    "\n",
    "train_data, dev_data, train_labels, dev_labels = train_test_split(train_data, train_labels, test_size=0.25,random_state=0)\n",
    "\n",
    "train_data_title = train_data['request_title']\n",
    "dev_data_title = dev_data['request_title']\n",
    "test_data_title = test_data['request_title']\n",
    "train_received_pizza = train_data['requester_received_pizza']\n",
    "dev_received_pizza = dev_data['requester_received_pizza']\n",
    "\n",
    "# Can configure the list below to filter columns from original training data set\n",
    "test_cols = ['request_text', 'request_number_of_comments_at_retrieval', 'requester_received_pizza']\n",
    "filtered_df = train_data[test_cols]\n",
    "filtered_df_dev = dev_data[test_cols]\n",
    "filtered_df_test = test_data[test_cols]\n",
    "\n",
    "# Add word count column\n",
    "filtered_df['request_text_count'] = filtered_df['request_text'].str.count(' ') + 1\n",
    "filtered_df_dev['request_text_count'] = filtered_df_dev['request_text'].str.count(' ') + 1\n",
    "filtered_df_test['request_text_count'] = filtered_df_test['request_text'].str.count(' ') + 1\n",
    "\n",
    "# Now need to split into features and targets\n",
    "feature_cols = ['request_text_count', 'request_number_of_comments_at_retrieval']\n",
    "X_train = filtered_df[feature_cols]\n",
    "Y_train = filtered_df.requester_received_pizza\n",
    "X_dev = filtered_df_dev[feature_cols]\n",
    "Y_dev = filtered_df_dev.requester_received_pizza\n",
    "\n",
    "X_test = filtered_df_test[feature_cols]\n",
    "Y_test = filtered_df_test.requester_received_pizza\n"
   ]
  },
  {
   "cell_type": "markdown",
   "id": "fc465544",
   "metadata": {},
   "source": [
    "### Examine Data"
   ]
  },
  {
   "cell_type": "code",
   "execution_count": 6,
   "id": "9851aa98",
   "metadata": {},
   "outputs": [
    {
     "name": "stdout",
     "output_type": "stream",
     "text": [
      "training data shape: (2272, 32)\n",
      "training label shape: (2272,)\n",
      "dev data shape: (758, 32)\n",
      "dev label shape: (758,)\n",
      "test data shape: (1010, 32)\n",
      "test label shape: (1010,)\n",
      "train_received_pizza: (2272,)\n",
      "dev_received_pizza: (758,)\n",
      "filtered_df shape: (2272, 2)\n",
      "filtered_df label shape: (2272,)\n",
      "filtered_df dev shape: (758, 2)\n",
      "filtered_df dev label shape: (758,)\n",
      "filtered_df dev shape: (1010, 2)\n",
      "filtered_df dev label shape: (1010,)\n"
     ]
    }
   ],
   "source": [
    "print('training data shape:', train_data.shape)\n",
    "print('training label shape:', train_labels.shape)\n",
    "print('dev data shape:',     dev_data.shape)\n",
    "print('dev label shape:',      dev_labels.shape)\n",
    "print('test data shape:', test_data.shape)\n",
    "print('test label shape:', test_labels.shape)\n",
    "print('train_received_pizza:', train_received_pizza.shape)\n",
    "print('dev_received_pizza:', dev_received_pizza.shape)\n",
    "print('filtered_df shape:', X_train.shape)\n",
    "print('filtered_df label shape:', Y_train.shape)\n",
    "print('filtered_df dev shape:', X_dev.shape)\n",
    "print('filtered_df dev label shape:', Y_dev.shape)\n",
    "print('filtered_df dev shape:', X_test.shape)\n",
    "print('filtered_df dev label shape:', Y_test.shape)\n",
    "\n",
    "#print('training data shape title:',      train_data_title.shape)\n",
    "#print('dev data shape title:',      dev_data_title.shape)"
   ]
  },
  {
   "cell_type": "markdown",
   "id": "e3b81b0b",
   "metadata": {},
   "source": [
    "\n",
    "For first 5 training examples, print the title of request"
   ]
  },
  {
   "cell_type": "code",
   "execution_count": 7,
   "id": "db366aa5",
   "metadata": {},
   "outputs": [
    {
     "name": "stdout",
     "output_type": "stream",
     "text": [
      "(Request) Really high right now, would love some pizza.\n",
      "I'm really high right now and love some pizza.\n",
      "\n",
      "Morning after edit because I couldn't edit on my phone: Thanks /u/unaspirateur for the delicious noms.\n",
      "Received Pizza:  True\n",
      "\n",
      "\n",
      "(Request) family of 5 here and all we have to eat is ramen. Girlfriend just had a miscarriage and I think pizza would cheer her up a bit\n",
      "I just got a job yesterday but I wont have money for the next 2 weeks for food. Thank you so much in advance for anyone who helps.\n",
      "\n",
      "Also since I should clarify, the family of five is her and her mom, step dad, step sister, and me. I live here out of necessity since living conditions at my grandmother's house became unlivable for me. \n",
      "Received Pizza:  False\n",
      "\n",
      "\n",
      "[Request] hungry family in NJ\n",
      "Hello everyone! I found out about this website from a friend who heard of it thru WUAH! Im hoping I could get some help tonight for pizza for my family. I am broke until tomorrows payday thanks to a flat tire that i HAD to replace. We dont have much food left in the house and I was going ot buy something just for tonight but now I cant. I feel bad giving my boys pb&amp;j again tonight. We have a local dominos. They are running 2 specials that I know of ( i looked it up lol) where u can get 2 or more mediums for 5.99/each...we would need at least 3 since the boys are bottomless pits and eat alot...i honestly dont know where they put it since they all are tall and so skinny!! Any help would be awesome! thank you for reading!! Oh and I did that verification thing and have a code!\n",
      "Received Pizza:  False\n",
      "\n",
      "\n",
      "[REQUEST]new to site\n",
      "Hello people. I found out about this website from a friend and I just don't believe it to be true. If it is, I will become a key contributor to this website to help the needy. Nothing makes me happier than helping fellow mankind. If someone could send me a pizza to verify and so I could have a tasty lunch, I'll make sure to return the favor and keep donating.\n",
      "Received Pizza:  True\n",
      "\n",
      "\n",
      "[Request] Savannah GA lookin for some help with pizza \n",
      "Hi all, I am new and am trying to get some food for me and my wife and 2 kids. I got this site from a friend that said I could get help here at least for tomorrow.  Can I please get some pizza for us. My wife doesn't get a pay check til Thursday.\n",
      "\n",
      "Received Pizza:  False\n",
      "\n",
      "\n"
     ]
    }
   ],
   "source": [
    "def display_request(num_examples=5):\n",
    "\n",
    "    for i in range(num_examples):\n",
    "        print(train_data.iloc[i]['request_title']) \n",
    "        print(train_data.iloc[i]['request_text'])\n",
    "        print('Received Pizza: ', train_data.iloc[i]['requester_received_pizza']) \n",
    "        print('\\n')  \n",
    "\n",
    "        \n",
    "display_request(5)"
   ]
  },
  {
   "cell_type": "code",
   "execution_count": 8,
   "id": "a4effe3b",
   "metadata": {},
   "outputs": [
    {
     "data": {
      "text/plain": [
       "<AxesSubplot:xlabel='requester_received_pizza'>"
      ]
     },
     "execution_count": 8,
     "metadata": {},
     "output_type": "execute_result"
    },
    {
     "data": {
      "image/png": "[encoded data removed]",
      "text/plain": [
       "<Figure size 432x288 with 1 Axes>"
      ]
     },
     "metadata": {
      "needs_background": "light"
     },
     "output_type": "display_data"
    }
   ],
   "source": [
    "#Baseline accuracy\n",
    "train_data.groupby('requester_received_pizza').size().plot(kind = \"bar\")\n"
   ]
  },
  {
   "cell_type": "markdown",
   "id": "1893bddc",
   "metadata": {},
   "source": [
    "### Classification"
   ]
  },
  {
   "cell_type": "code",
   "execution_count": 9,
   "id": "dc4e86ab",
   "metadata": {},
   "outputs": [
    {
     "name": "stdout",
     "output_type": "stream",
     "text": [
      "Accuracy: 0.7453825857519789\n",
      "Precision: 0.4444444444444444\n",
      "Recall: 0.17297297297297298\n"
     ]
    }
   ],
   "source": [
    "# Create and train model using train data\n",
    "logreg = LogisticRegression()\n",
    "logreg.fit(X_train,Y_train)\n",
    "Y_pred = logreg.predict(X_dev)\n",
    "\n",
    "# Output results\n",
    "print(\"Accuracy:\",metrics.accuracy_score(Y_dev, Y_pred))\n",
    "print(\"Precision:\",metrics.precision_score(Y_dev, Y_pred))\n",
    "print(\"Recall:\",metrics.recall_score(Y_dev, Y_pred))"
   ]
  },
  {
   "cell_type": "code",
   "execution_count": 10,
   "id": "5b41170c",
   "metadata": {},
   "outputs": [],
   "source": [
    "# Run model against test data\n",
    "Y_test_pred = logreg.predict(X_test)"
   ]
  },
  {
   "cell_type": "code",
   "execution_count": 11,
   "id": "b91234ba",
   "metadata": {},
   "outputs": [
    {
     "data": {
      "text/plain": [
       "array([[722,  43],\n",
       "       [205,  40]], dtype=int64)"
      ]
     },
     "execution_count": 11,
     "metadata": {},
     "output_type": "execute_result"
    }
   ],
   "source": [
    "# Look at confusion matrix\n",
    "cnf_matrix = metrics.confusion_matrix(Y_test, Y_test_pred)\n",
    "cnf_matrix"
   ]
  },
  {
   "cell_type": "code",
   "execution_count": null,
   "id": "74af818c",
   "metadata": {},
   "outputs": [],
   "source": []
  },
  {
   "cell_type": "code",
   "execution_count": 12,
   "id": "c12158b5",
   "metadata": {},
   "outputs": [
    {
     "data": {
      "text/plain": [
       "Text(0.5, 257.44, 'Predicted label')"
      ]
     },
     "execution_count": 12,
     "metadata": {},
     "output_type": "execute_result"
    },
    {
     "data": {
      "image/png": "[encoded data removed]",
      "text/plain": [
       "<Figure size 432x288 with 2 Axes>"
      ]
     },
     "metadata": {
      "needs_background": "light"
     },
     "output_type": "display_data"
    }
   ],
   "source": [
    "# Plot results\n",
    "class_names=[0,1] # name  of classes\n",
    "fig, ax = plt.subplots()\n",
    "tick_marks = np.arange(len(class_names))\n",
    "plt.xticks(tick_marks, class_names)\n",
    "plt.yticks(tick_marks, class_names)\n",
    "# create heatmap\n",
    "sns.heatmap(pd.DataFrame(cnf_matrix), annot=True, cmap=\"YlGnBu\" ,fmt='g')\n",
    "ax.xaxis.set_label_position(\"top\")\n",
    "plt.tight_layout()\n",
    "plt.title('Confusion matrix', y=1.1)\n",
    "plt.ylabel('Actual label')\n",
    "plt.xlabel('Predicted label')"
   ]
  },
  {
   "cell_type": "code",
   "execution_count": 13,
   "id": "1ec3e270",
   "metadata": {},
   "outputs": [
    {
     "name": "stdout",
     "output_type": "stream",
     "text": [
      "Size of vocabulary:  13633\n",
      "\n",
      "***  Naive Bayes model ***\n",
      "a = 0.5, f1 score = 0.6650147039376326\n",
      "accuracy = 0.714, precision = 0.644, recall = 0.714, f1 = 0.665\n"
     ]
    }
   ],
   "source": [
    "from sklearn.metrics import accuracy_score, f1_score, precision_score, recall_score, classification_report\n",
    "\n",
    "def get_metrics(y_test, y_predicted):  \n",
    "    # true positives / (true positives+false positives)\n",
    "    precision = precision_score(y_test, y_predicted, pos_label=None,\n",
    "                                    average='weighted')             \n",
    "    # true positives / (true positives + false negatives)\n",
    "    recall = recall_score(y_test, y_predicted, pos_label=None,\n",
    "                              average='weighted')\n",
    "    \n",
    "    # harmonic mean of precision and recall\n",
    "    f1 = f1_score(y_test, y_predicted, pos_label=None, average='weighted')\n",
    "    \n",
    "    # true positives + true negatives/ total\n",
    "    accuracy = accuracy_score(y_test, y_predicted)\n",
    "    return accuracy, precision, recall, f1\n",
    "\n",
    "# def text_preprocessor(text):\n",
    "#     text = text.lower()\n",
    "#     text = re.sub(\"\\W\",' ',text) # replace non-alphanumeric\n",
    "#     text = re.sub(\"_\",' ',text) # replace non-alphanumeric\n",
    "#     text = re.sub('\\n', '', text)   \n",
    "#     return text\n",
    "\n",
    "#vectorizer = CountVectorizer(ngram_range=(2, 2), stop_words='english', preprocessor=text_preprocessor)\n",
    "vectorizer = CountVectorizer(ngram_range=(2, 2))\n",
    "\n",
    "train_vector = vectorizer.fit_transform(train_data_title)\n",
    "\n",
    "print('Size of vocabulary: ', train_vector.shape[1])\n",
    "\n",
    "dev_vector = vectorizer.transform(dev_data_title)\n",
    "\n",
    "#Produce several Naive Bayes models by varying smoothing (alpha), including one with alpha set approximately to optimize f1 score\n",
    "print('\\n***  Naive Bayes model ***') \n",
    "\n",
    "\n",
    "mnb = MultinomialNB(alpha = 0.5)\n",
    "mnb.fit(train_vector, train_received_pizza)\n",
    "\n",
    "#Evaluate performance on the dev set.\n",
    "pred_mnb = mnb.predict(dev_vector)\n",
    "score = metrics.f1_score(dev_labels, pred_mnb, average=\"weighted\")\n",
    "print(f\"a = 0.5, f1 score = {score}\")\n",
    "\n",
    "accuracy, precision, recall, f1 = get_metrics(dev_labels, pred_mnb)\n",
    "print(\"accuracy = %.3f, precision = %.3f, recall = %.3f, f1 = %.3f\" % (accuracy, precision, recall, f1))"
   ]
  },
  {
   "cell_type": "code",
   "execution_count": 14,
   "id": "aad3e072",
   "metadata": {},
   "outputs": [
    {
     "name": "stdout",
     "output_type": "stream",
     "text": [
      "\n",
      "***  Logistic Regression model ***\n",
      "a = 0.5, f1 score = 0.6570666781667993\n",
      "accuracy = 0.759, precision = 0.817, recall = 0.759, f1 = 0.657\n"
     ]
    }
   ],
   "source": [
    "def text_preprocessor(text):\n",
    "    text = text.lower()\n",
    "    text = re.sub(\"\\W\",' ',text) # replace non-alphanumeric\n",
    "    text = re.sub(\"_\",' ',text) # replace non-alphanumeric\n",
    "    text = re.sub('\\n', '', text)\n",
    "    text = text.replace('\\[request\\]','') \n",
    "    text = text.replace('request','')\n",
    "    text = text.replace('\\[request\\]','')\n",
    "    \n",
    "    return text\n",
    "\n",
    "vectorizer = CountVectorizer(ngram_range=(2, 2), stop_words='english', preprocessor=text_preprocessor)\n",
    "train_vector = vectorizer.fit_transform(train_data_title)\n",
    "dev_vector = vectorizer.transform(dev_data_title)\n",
    "lr = LogisticRegression(C=.5, solver=\"liblinear\", multi_class=\"auto\")\n",
    "lr.fit(train_vector, train_received_pizza)\n",
    "\n",
    "pred_lr = lr.predict(dev_vector)\n",
    "score = metrics.f1_score(dev_labels, pred_lr, average=\"weighted\")\n",
    "print('\\n***  Logistic Regression model ***') \n",
    "print(f\"a = 0.5, f1 score = {score}\")\n",
    "\n",
    "accuracy, precision, recall, f1 = get_metrics(dev_labels, pred_lr)\n",
    "print(\"accuracy = %.3f, precision = %.3f, recall = %.3f, f1 = %.3f\" % (accuracy, precision, recall, f1))        \n"
   ]
  },
  {
   "cell_type": "code",
   "execution_count": 15,
   "id": "538f068d",
   "metadata": {},
   "outputs": [
    {
     "data": {
      "text/plain": [
       "[(0.5998178508088684, 'usa love'),\n",
       " (0.6101905219016865, 'pizza read'),\n",
       " (0.6121620961856307, 'pizza tonight'),\n",
       " (0.6642899851120605, 'little brother'),\n",
       " (0.6931812177661318, 'nj pizza'),\n",
       " (0.6986593209829385, 'single mother'),\n",
       " (0.745727104184074, 'los angeles'),\n",
       " (0.7467851947848518, 'usa pizza'),\n",
       " (0.7663141813256859, 'needs food'),\n",
       " (0.7877480561371513, 'pregnant hungry')]"
      ]
     },
     "execution_count": 15,
     "metadata": {},
     "output_type": "execute_result"
    }
   ],
   "source": [
    "def get_most_important_features(vectorizer, model, n=5):\n",
    "    index_to_word = {v:k for k,v in vectorizer.vocabulary_.items()}\n",
    "    \n",
    "    # loop for each class\n",
    "    classes ={}\n",
    "    for class_index in range(model.coef_.shape[0]):\n",
    "        word_importances = [(el, index_to_word[i]) for i,el in enumerate(model.coef_[class_index])]\n",
    "        sorted_coeff = sorted(word_importances, key = lambda x : x[0], reverse=True)\n",
    "        tops = sorted(sorted_coeff[:n], key = lambda x : x[0])\n",
    "        bottom = sorted_coeff[-n:]\n",
    "        classes[class_index] = {\n",
    "            'top':tops,\n",
    "            'bottom':bottom\n",
    "        }\n",
    "    return classes\n",
    "\n",
    "importance = get_most_important_features(vectorizer, lr, 10)\n",
    "top_words = importance[0]['top']\n",
    "\n",
    "#most important words \n",
    "top_words"
   ]
  },
  {
   "cell_type": "code",
   "execution_count": 16,
   "id": "1f3712fa",
   "metadata": {},
   "outputs": [
    {
     "data": {
      "text/plain": [
       "[(-0.4276915197942441, 'looking good'),\n",
       " (-0.4456072749192251, 'pizza help'),\n",
       " (-0.46521476193257183, 'pizza today'),\n",
       " (-0.4744089112139644, 'studying finals'),\n",
       " (-0.4805111890658747, 'california usa'),\n",
       " (-0.4899183003262267, 'need pizza'),\n",
       " (-0.49656623600327976, 'love pizza'),\n",
       " (-0.5048703303781503, 'just moved'),\n",
       " (-0.5510401909311087, 'really appreciate'),\n",
       " (-0.6587633194784812, 'like pizza')]"
      ]
     },
     "execution_count": 16,
     "metadata": {},
     "output_type": "execute_result"
    }
   ],
   "source": [
    "#least important words \n",
    "bottom_words = importance[0]['bottom']\n",
    "bottom_words"
   ]
  },
  {
   "cell_type": "code",
   "execution_count": null,
   "id": "1ecf5bf5",
   "metadata": {},
   "outputs": [],
   "source": []
  }
 ],
 "metadata": {
  "kernelspec": {
   "display_name": "Python 3",
   "language": "python",
   "name": "python3"
  },
  "language_info": {
   "codemirror_mode": {
    "name": "ipython",
    "version": 3
   },
   "file_extension": ".py",
   "mimetype": "text/x-python",
   "name": "python",
   "nbconvert_exporter": "python",
   "pygments_lexer": "ipython3",
   "version": "3.8.10"
  }
 },
 "nbformat": 4,
 "nbformat_minor": 5
}
