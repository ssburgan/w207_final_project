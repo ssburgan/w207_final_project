{
  "cells": [
    {
      "cell_type": "code",
      "execution_count": null,
      "id": "intermediate-template",
      "metadata": {
        "id": "intermediate-template"
      },
      "outputs": [],
      "source": [
        "# This tells matplotlib not to try opening a new window for each plot.\n",
        "%matplotlib inline\n",
        "\n",
        "# General libraries.\n",
        "import re\n",
        "import numpy as np\n",
        "import pandas as pd\n",
        "import matplotlib.pyplot as plt\n",
        "\n",
        "# SK-learn libraries for learning.\n",
        "from sklearn.pipeline import Pipeline\n",
        "from sklearn.linear_model import LogisticRegression\n",
        "from sklearn.naive_bayes import MultinomialNB\n",
        "\n",
        "# SK-learn libraries for evaluation.\n",
        "from sklearn.metrics import confusion_matrix\n",
        "from sklearn import metrics\n",
        "from sklearn.metrics import classification_report\n",
        "from sklearn.model_selection import train_test_split\n",
        "from sklearn.utils import resample\n",
        "from sklearn.feature_extraction.text import *\n",
        "import nltk\n",
        "\n",
        "import json \n",
        "import pandas as pd \n",
        "from pandas import json_normalize\n",
        "import matplotlib.pyplot as plt\n",
        "import seaborn as sns"
      ]
    },
    {
      "cell_type": "code",
      "execution_count": null,
      "id": "formal-header",
      "metadata": {
        "id": "formal-header",
        "outputId": "ec311651-a336-4cb4-8920-11640b23e039"
      },
      "outputs": [
        {
          "name": "stderr",
          "output_type": "stream",
          "text": [
            "<ipython-input-103-380c7998e137>:16: SettingWithCopyWarning: \n",
            "A value is trying to be set on a copy of a slice from a DataFrame.\n",
            "Try using .loc[row_indexer,col_indexer] = value instead\n",
            "\n",
            "See the caveats in the documentation: https://pandas.pydata.org/pandas-docs/stable/user_guide/indexing.html#returning-a-view-versus-a-copy\n",
            "  filtered_df['request_text_count'] = filtered_df['request_text'].str.count(' ') + 1\n",
            "<ipython-input-103-380c7998e137>:19: SettingWithCopyWarning: \n",
            "A value is trying to be set on a copy of a slice from a DataFrame.\n",
            "Try using .loc[row_indexer,col_indexer] = value instead\n",
            "\n",
            "See the caveats in the documentation: https://pandas.pydata.org/pandas-docs/stable/user_guide/indexing.html#returning-a-view-versus-a-copy\n",
            "  filtered_df['mean_comments'] = np.where(filtered_df['requester_number_of_comments_in_raop_at_request'] > 1, True, False)\n"
          ]
        },
        {
          "data": {
            "text/html": [
              "<div>\n",
              "<style scoped>\n",
              "    .dataframe tbody tr th:only-of-type {\n",
              "        vertical-align: middle;\n",
              "    }\n",
              "\n",
              "    .dataframe tbody tr th {\n",
              "        vertical-align: top;\n",
              "    }\n",
              "\n",
              "    .dataframe thead th {\n",
              "        text-align: right;\n",
              "    }\n",
              "</style>\n",
              "<table border=\"1\" class=\"dataframe\">\n",
              "  <thead>\n",
              "    <tr style=\"text-align: right;\">\n",
              "      <th></th>\n",
              "      <th>request_title</th>\n",
              "      <th>request_text</th>\n",
              "      <th>request_number_of_comments_at_retrieval</th>\n",
              "      <th>requester_received_pizza</th>\n",
              "      <th>requester_account_age_in_days_at_request</th>\n",
              "      <th>requester_number_of_comments_in_raop_at_request</th>\n",
              "      <th>request_text_count</th>\n",
              "      <th>mean_comments</th>\n",
              "    </tr>\n",
              "  </thead>\n",
              "  <tbody>\n",
              "    <tr>\n",
              "      <th>0</th>\n",
              "      <td>Request Colorado Springs Help Us Please</td>\n",
              "      <td>Hi I am in need of food for my 4 children we a...</td>\n",
              "      <td>0</td>\n",
              "      <td>False</td>\n",
              "      <td>0.000000</td>\n",
              "      <td>0</td>\n",
              "      <td>67</td>\n",
              "      <td>False</td>\n",
              "    </tr>\n",
              "    <tr>\n",
              "      <th>1</th>\n",
              "      <td>[Request] California, No cash and I could use ...</td>\n",
              "      <td>I spent the last money I had on gas today. Im ...</td>\n",
              "      <td>0</td>\n",
              "      <td>False</td>\n",
              "      <td>501.111100</td>\n",
              "      <td>0</td>\n",
              "      <td>16</td>\n",
              "      <td>False</td>\n",
              "    </tr>\n",
              "    <tr>\n",
              "      <th>2</th>\n",
              "      <td>[Request] Hungry couple in Dundee, Scotland wo...</td>\n",
              "      <td>My girlfriend decided it would be a good idea ...</td>\n",
              "      <td>0</td>\n",
              "      <td>False</td>\n",
              "      <td>0.000000</td>\n",
              "      <td>0</td>\n",
              "      <td>59</td>\n",
              "      <td>False</td>\n",
              "    </tr>\n",
              "    <tr>\n",
              "      <th>3</th>\n",
              "      <td>[Request] In Canada (Ontario), just got home f...</td>\n",
              "      <td>It's cold, I'n hungry, and to be completely ho...</td>\n",
              "      <td>4</td>\n",
              "      <td>False</td>\n",
              "      <td>6.518438</td>\n",
              "      <td>0</td>\n",
              "      <td>29</td>\n",
              "      <td>False</td>\n",
              "    </tr>\n",
              "    <tr>\n",
              "      <th>4</th>\n",
              "      <td>[Request] Old friend coming to visit. Would LO...</td>\n",
              "      <td>hey guys:\\n I love this sub. I think it's grea...</td>\n",
              "      <td>5</td>\n",
              "      <td>False</td>\n",
              "      <td>162.063252</td>\n",
              "      <td>2</td>\n",
              "      <td>102</td>\n",
              "      <td>True</td>\n",
              "    </tr>\n",
              "  </tbody>\n",
              "</table>\n",
              "</div>"
            ],
            "text/plain": [
              "                                       request_title  \\\n",
              "0            Request Colorado Springs Help Us Please   \n",
              "1  [Request] California, No cash and I could use ...   \n",
              "2  [Request] Hungry couple in Dundee, Scotland wo...   \n",
              "3  [Request] In Canada (Ontario), just got home f...   \n",
              "4  [Request] Old friend coming to visit. Would LO...   \n",
              "\n",
              "                                        request_text  \\\n",
              "0  Hi I am in need of food for my 4 children we a...   \n",
              "1  I spent the last money I had on gas today. Im ...   \n",
              "2  My girlfriend decided it would be a good idea ...   \n",
              "3  It's cold, I'n hungry, and to be completely ho...   \n",
              "4  hey guys:\\n I love this sub. I think it's grea...   \n",
              "\n",
              "   request_number_of_comments_at_retrieval  requester_received_pizza  \\\n",
              "0                                        0                     False   \n",
              "1                                        0                     False   \n",
              "2                                        0                     False   \n",
              "3                                        4                     False   \n",
              "4                                        5                     False   \n",
              "\n",
              "   requester_account_age_in_days_at_request  \\\n",
              "0                                  0.000000   \n",
              "1                                501.111100   \n",
              "2                                  0.000000   \n",
              "3                                  6.518438   \n",
              "4                                162.063252   \n",
              "\n",
              "   requester_number_of_comments_in_raop_at_request  request_text_count  \\\n",
              "0                                                0                  67   \n",
              "1                                                0                  16   \n",
              "2                                                0                  59   \n",
              "3                                                0                  29   \n",
              "4                                                2                 102   \n",
              "\n",
              "   mean_comments  \n",
              "0          False  \n",
              "1          False  \n",
              "2          False  \n",
              "3          False  \n",
              "4           True  "
            ]
          },
          "execution_count": 103,
          "metadata": {},
          "output_type": "execute_result"
        }
      ],
      "source": [
        "#from google.colab import drive\n",
        "#drive.mount('/content/drive')\n",
        "\n",
        "# Can configure the list below to filter columns from original training data set\n",
        "\n",
        "# Read JSON file from google drive\n",
        "train_df = pd.read_json('train.json')\n",
        "\n",
        "# Read JSON file from data folder\n",
        "train_df = pd.read_json('train.json')\n",
        "test_df = pd.read_json('test.json')\n",
        "\n",
        "filtered_df = train_df[test_cols]\n",
        "\n",
        "# Add word count column\n",
        "filtered_df['request_text_count'] = filtered_df['request_text'].str.count(' ') + 1\n",
        "\n",
        "\n",
        "\n",
        "filtered_df.head()\n",
        "\n"
      ]
    },
    {
      "cell_type": "code",
      "execution_count": null,
      "id": "chicken-reward",
      "metadata": {
        "id": "chicken-reward"
      },
      "outputs": [],
      "source": [
        "# Now need to split into features and targets\n",
        "feature_cols = ['request_text_count', 'request_number_of_comments_at_retrieval']\n",
        "X = filtered_df[feature_cols]\n",
        "Y = filtered_df.requester_received_pizza\n",
        "\n",
        "X_train, X_test, Y_train, Y_test = train_test_split(X, Y, test_size=0.25,random_state=0)"
      ]
    },
    {
      "cell_type": "code",
      "execution_count": null,
      "id": "academic-mandate",
      "metadata": {
        "id": "academic-mandate",
        "outputId": "e81d0fff-b64a-4b7f-a312-cd6dfc397947"
      },
      "outputs": [
        {
          "name": "stdout",
          "output_type": "stream",
          "text": [
            "training data shape: (3030, 2)\n",
            "training label shape: (1010, 2)\n",
            "test data shape: (3030,)\n",
            "test label shape: (1010,)\n"
          ]
        },
        {
          "data": {
            "text/html": [
              "<div>\n",
              "<style scoped>\n",
              "    .dataframe tbody tr th:only-of-type {\n",
              "        vertical-align: middle;\n",
              "    }\n",
              "\n",
              "    .dataframe tbody tr th {\n",
              "        vertical-align: top;\n",
              "    }\n",
              "\n",
              "    .dataframe thead th {\n",
              "        text-align: right;\n",
              "    }\n",
              "</style>\n",
              "<table border=\"1\" class=\"dataframe\">\n",
              "  <thead>\n",
              "    <tr style=\"text-align: right;\">\n",
              "      <th></th>\n",
              "      <th>request_title</th>\n",
              "      <th>request_text</th>\n",
              "      <th>request_number_of_comments_at_retrieval</th>\n",
              "      <th>requester_received_pizza</th>\n",
              "      <th>requester_account_age_in_days_at_request</th>\n",
              "      <th>requester_number_of_comments_in_raop_at_request</th>\n",
              "      <th>request_text_count</th>\n",
              "      <th>mean_comments</th>\n",
              "    </tr>\n",
              "  </thead>\n",
              "  <tbody>\n",
              "    <tr>\n",
              "      <th>0</th>\n",
              "      <td>Request Colorado Springs Help Us Please</td>\n",
              "      <td>Hi I am in need of food for my 4 children we a...</td>\n",
              "      <td>0</td>\n",
              "      <td>False</td>\n",
              "      <td>0.000000</td>\n",
              "      <td>0</td>\n",
              "      <td>67</td>\n",
              "      <td>False</td>\n",
              "    </tr>\n",
              "    <tr>\n",
              "      <th>1</th>\n",
              "      <td>[Request] California, No cash and I could use ...</td>\n",
              "      <td>I spent the last money I had on gas today. Im ...</td>\n",
              "      <td>0</td>\n",
              "      <td>False</td>\n",
              "      <td>501.111100</td>\n",
              "      <td>0</td>\n",
              "      <td>16</td>\n",
              "      <td>False</td>\n",
              "    </tr>\n",
              "    <tr>\n",
              "      <th>2</th>\n",
              "      <td>[Request] Hungry couple in Dundee, Scotland wo...</td>\n",
              "      <td>My girlfriend decided it would be a good idea ...</td>\n",
              "      <td>0</td>\n",
              "      <td>False</td>\n",
              "      <td>0.000000</td>\n",
              "      <td>0</td>\n",
              "      <td>59</td>\n",
              "      <td>False</td>\n",
              "    </tr>\n",
              "    <tr>\n",
              "      <th>3</th>\n",
              "      <td>[Request] In Canada (Ontario), just got home f...</td>\n",
              "      <td>It's cold, I'n hungry, and to be completely ho...</td>\n",
              "      <td>4</td>\n",
              "      <td>False</td>\n",
              "      <td>6.518438</td>\n",
              "      <td>0</td>\n",
              "      <td>29</td>\n",
              "      <td>False</td>\n",
              "    </tr>\n",
              "    <tr>\n",
              "      <th>4</th>\n",
              "      <td>[Request] Old friend coming to visit. Would LO...</td>\n",
              "      <td>hey guys:\\n I love this sub. I think it's grea...</td>\n",
              "      <td>5</td>\n",
              "      <td>False</td>\n",
              "      <td>162.063252</td>\n",
              "      <td>2</td>\n",
              "      <td>102</td>\n",
              "      <td>True</td>\n",
              "    </tr>\n",
              "  </tbody>\n",
              "</table>\n",
              "</div>"
            ],
            "text/plain": [
              "                                       request_title  \\\n",
              "0            Request Colorado Springs Help Us Please   \n",
              "1  [Request] California, No cash and I could use ...   \n",
              "2  [Request] Hungry couple in Dundee, Scotland wo...   \n",
              "3  [Request] In Canada (Ontario), just got home f...   \n",
              "4  [Request] Old friend coming to visit. Would LO...   \n",
              "\n",
              "                                        request_text  \\\n",
              "0  Hi I am in need of food for my 4 children we a...   \n",
              "1  I spent the last money I had on gas today. Im ...   \n",
              "2  My girlfriend decided it would be a good idea ...   \n",
              "3  It's cold, I'n hungry, and to be completely ho...   \n",
              "4  hey guys:\\n I love this sub. I think it's grea...   \n",
              "\n",
              "   request_number_of_comments_at_retrieval  requester_received_pizza  \\\n",
              "0                                        0                     False   \n",
              "1                                        0                     False   \n",
              "2                                        0                     False   \n",
              "3                                        4                     False   \n",
              "4                                        5                     False   \n",
              "\n",
              "   requester_account_age_in_days_at_request  \\\n",
              "0                                  0.000000   \n",
              "1                                501.111100   \n",
              "2                                  0.000000   \n",
              "3                                  6.518438   \n",
              "4                                162.063252   \n",
              "\n",
              "   requester_number_of_comments_in_raop_at_request  request_text_count  \\\n",
              "0                                                0                  67   \n",
              "1                                                0                  16   \n",
              "2                                                0                  59   \n",
              "3                                                0                  29   \n",
              "4                                                2                 102   \n",
              "\n",
              "   mean_comments  \n",
              "0          False  \n",
              "1          False  \n",
              "2          False  \n",
              "3          False  \n",
              "4           True  "
            ]
          },
          "execution_count": 107,
          "metadata": {},
          "output_type": "execute_result"
        }
      ],
      "source": [
        "print('training data shape:', X_train.shape)\n",
        "print('training label shape:', X_test.shape)\n",
        "print('test data shape:', Y_train.shape)\n",
        "print('test label shape:', Y_test.shape)\n",
        "filtered_df.head()"
      ]
    },
    {
      "cell_type": "code",
      "execution_count": null,
      "id": "vital-poker",
      "metadata": {
        "id": "vital-poker",
        "outputId": "40a592bb-6f39-4912-ea46-54e19895b905"
      },
      "outputs": [
        {
          "name": "stdout",
          "output_type": "stream",
          "text": [
            "Request Colorado Springs Help Us Please\n",
            "Hi I am in need of food for my 4 children we are a military family that has really hit hard times and we have exahusted all means of help just to be able to feed my family and make it through another night is all i ask i know our blessing is coming so whatever u can find in your heart to give is greatly appreciated\n",
            "0\n",
            "67\n",
            "Received Pizza:  False\n",
            "\n",
            "\n",
            "[Request] California, No cash and I could use some dinner\n",
            "I spent the last money I had on gas today. Im broke until next Thursday :(\n",
            "0\n",
            "16\n",
            "Received Pizza:  False\n",
            "\n",
            "\n",
            "[Request] Hungry couple in Dundee, Scotland would love some pizza!\n",
            "My girlfriend decided it would be a good idea to get off at Perth bus station when she was coming to visit me and has since had to spend all her money on a taxi to get to me here in Dundee. Any chance some kind soul would get us some pizza since we don't have any cash anymore?\n",
            "0\n",
            "59\n",
            "Received Pizza:  False\n",
            "\n",
            "\n",
            "[Request] In Canada (Ontario), just got home from school. Need pizza.\n",
            "It's cold, I'n hungry, and to be completely honest I'm broke. My mum said we're having leftovers for dinner. A random pizza arriving would be nice.\n",
            "\n",
            "Edit: We had leftovers.\n",
            "4\n",
            "29\n",
            "Received Pizza:  False\n",
            "\n",
            "\n",
            "[Request] Old friend coming to visit. Would LOVE to feed her some dinner. Indiana\n",
            "hey guys:\n",
            " I love this sub. I think it's great. (Except the sob stories. I miss when this place was fun!) Anywho, I've given a pizza out before so thought I would try my luck at getting one. My friend, who lives an hour away and our schedules do not let us see each other too much, decided to come down and visit me for the night! I would love to be able to be a good host and order her a pizza to go with some beer!\n",
            "\n",
            "Again, no sob story. Just looking to share a pizza with an old friend :)\n",
            "5\n",
            "102\n",
            "Received Pizza:  False\n",
            "\n",
            "\n"
          ]
        }
      ],
      "source": [
        "def display_request(num_examples=5):\n",
        "\n",
        "    for i in range(num_examples):\n",
        "        print(filtered_df.iloc[i]['request_title']) \n",
        "        print(filtered_df.iloc[i]['request_text'])\n",
        "        print(filtered_df.iloc[i]['request_number_of_comments_at_retrieval'])\n",
        "        print(filtered_df.iloc[i]['request_text_count'])\n",
        "        print('Received Pizza: ', filtered_df.iloc[i]['requester_received_pizza']) \n",
        "        print('\\n')  \n",
        "\n",
        "        \n",
        "display_request(5)"
      ]
    },
    {
      "cell_type": "code",
      "execution_count": null,
      "id": "ranking-player",
      "metadata": {
        "id": "ranking-player",
        "outputId": "b2ee4c25-43e0-4d21-9397-2c5d6d50b56b"
      },
      "outputs": [
        {
          "ename": "ValueError",
          "evalue": "X has 2 features per sample; expecting 3",
          "output_type": "error",
          "traceback": [
            "\u001b[0;31m---------------------------------------------------------------------------\u001b[0m",
            "\u001b[0;31mValueError\u001b[0m                                Traceback (most recent call last)",
            "\u001b[0;32m<ipython-input-108-9218d3d50b1b>\u001b[0m in \u001b[0;36m<module>\u001b[0;34m\u001b[0m\n\u001b[1;32m      1\u001b[0m \u001b[0;31m# Run model against test data\u001b[0m\u001b[0;34m\u001b[0m\u001b[0;34m\u001b[0m\u001b[0;34m\u001b[0m\u001b[0m\n\u001b[0;32m----> 2\u001b[0;31m \u001b[0mY_test_pred\u001b[0m \u001b[0;34m=\u001b[0m \u001b[0mlogreg\u001b[0m\u001b[0;34m.\u001b[0m\u001b[0mpredict\u001b[0m\u001b[0;34m(\u001b[0m\u001b[0mX_test\u001b[0m\u001b[0;34m)\u001b[0m\u001b[0;34m\u001b[0m\u001b[0;34m\u001b[0m\u001b[0m\n\u001b[0m\u001b[1;32m      3\u001b[0m \u001b[0;34m\u001b[0m\u001b[0m\n\u001b[1;32m      4\u001b[0m \u001b[0mpd\u001b[0m\u001b[0;34m.\u001b[0m\u001b[0mDataFrame\u001b[0m\u001b[0;34m(\u001b[0m\u001b[0;34m{\u001b[0m\u001b[0;34m'coeff'\u001b[0m\u001b[0;34m:\u001b[0m \u001b[0mlogreg\u001b[0m\u001b[0;34m.\u001b[0m\u001b[0mcoef_\u001b[0m\u001b[0;34m[\u001b[0m\u001b[0;36m0\u001b[0m\u001b[0;34m]\u001b[0m\u001b[0;34m}\u001b[0m\u001b[0;34m,\u001b[0m \u001b[0mindex\u001b[0m\u001b[0;34m=\u001b[0m\u001b[0mX\u001b[0m\u001b[0;34m.\u001b[0m\u001b[0mcolumns\u001b[0m\u001b[0;34m)\u001b[0m\u001b[0;34m\u001b[0m\u001b[0;34m\u001b[0m\u001b[0m\n",
            "\u001b[0;32m/opt/anaconda3/lib/python3.8/site-packages/sklearn/linear_model/_base.py\u001b[0m in \u001b[0;36mpredict\u001b[0;34m(self, X)\u001b[0m\n\u001b[1;32m    305\u001b[0m             \u001b[0mPredicted\u001b[0m \u001b[0;32mclass\u001b[0m \u001b[0mlabel\u001b[0m \u001b[0mper\u001b[0m \u001b[0msample\u001b[0m\u001b[0;34m.\u001b[0m\u001b[0;34m\u001b[0m\u001b[0;34m\u001b[0m\u001b[0m\n\u001b[1;32m    306\u001b[0m         \"\"\"\n\u001b[0;32m--> 307\u001b[0;31m         \u001b[0mscores\u001b[0m \u001b[0;34m=\u001b[0m \u001b[0mself\u001b[0m\u001b[0;34m.\u001b[0m\u001b[0mdecision_function\u001b[0m\u001b[0;34m(\u001b[0m\u001b[0mX\u001b[0m\u001b[0;34m)\u001b[0m\u001b[0;34m\u001b[0m\u001b[0;34m\u001b[0m\u001b[0m\n\u001b[0m\u001b[1;32m    308\u001b[0m         \u001b[0;32mif\u001b[0m \u001b[0mlen\u001b[0m\u001b[0;34m(\u001b[0m\u001b[0mscores\u001b[0m\u001b[0;34m.\u001b[0m\u001b[0mshape\u001b[0m\u001b[0;34m)\u001b[0m \u001b[0;34m==\u001b[0m \u001b[0;36m1\u001b[0m\u001b[0;34m:\u001b[0m\u001b[0;34m\u001b[0m\u001b[0;34m\u001b[0m\u001b[0m\n\u001b[1;32m    309\u001b[0m             \u001b[0mindices\u001b[0m \u001b[0;34m=\u001b[0m \u001b[0;34m(\u001b[0m\u001b[0mscores\u001b[0m \u001b[0;34m>\u001b[0m \u001b[0;36m0\u001b[0m\u001b[0;34m)\u001b[0m\u001b[0;34m.\u001b[0m\u001b[0mastype\u001b[0m\u001b[0;34m(\u001b[0m\u001b[0mnp\u001b[0m\u001b[0;34m.\u001b[0m\u001b[0mint\u001b[0m\u001b[0;34m)\u001b[0m\u001b[0;34m\u001b[0m\u001b[0;34m\u001b[0m\u001b[0m\n",
            "\u001b[0;32m/opt/anaconda3/lib/python3.8/site-packages/sklearn/linear_model/_base.py\u001b[0m in \u001b[0;36mdecision_function\u001b[0;34m(self, X)\u001b[0m\n\u001b[1;32m    284\u001b[0m         \u001b[0mn_features\u001b[0m \u001b[0;34m=\u001b[0m \u001b[0mself\u001b[0m\u001b[0;34m.\u001b[0m\u001b[0mcoef_\u001b[0m\u001b[0;34m.\u001b[0m\u001b[0mshape\u001b[0m\u001b[0;34m[\u001b[0m\u001b[0;36m1\u001b[0m\u001b[0;34m]\u001b[0m\u001b[0;34m\u001b[0m\u001b[0;34m\u001b[0m\u001b[0m\n\u001b[1;32m    285\u001b[0m         \u001b[0;32mif\u001b[0m \u001b[0mX\u001b[0m\u001b[0;34m.\u001b[0m\u001b[0mshape\u001b[0m\u001b[0;34m[\u001b[0m\u001b[0;36m1\u001b[0m\u001b[0;34m]\u001b[0m \u001b[0;34m!=\u001b[0m \u001b[0mn_features\u001b[0m\u001b[0;34m:\u001b[0m\u001b[0;34m\u001b[0m\u001b[0;34m\u001b[0m\u001b[0m\n\u001b[0;32m--> 286\u001b[0;31m             raise ValueError(\"X has %d features per sample; expecting %d\"\n\u001b[0m\u001b[1;32m    287\u001b[0m                              % (X.shape[1], n_features))\n\u001b[1;32m    288\u001b[0m \u001b[0;34m\u001b[0m\u001b[0m\n",
            "\u001b[0;31mValueError\u001b[0m: X has 2 features per sample; expecting 3"
          ]
        }
      ],
      "source": [
        "# Run model against test data\n",
        "Y_test_pred = logreg.predict(X_test)\n",
        "\n",
        "pd.DataFrame({'coeff': logreg.coef_[0]}, index=X.columns)\n"
      ]
    },
    {
      "cell_type": "code",
      "execution_count": null,
      "id": "liberal-canvas",
      "metadata": {
        "id": "liberal-canvas",
        "outputId": "8caabb15-b497-4e7f-980f-e745fdd4fae1"
      },
      "outputs": [
        {
          "data": {
            "text/plain": [
              "SVC(random_state=1)"
            ]
          },
          "execution_count": 109,
          "metadata": {},
          "output_type": "execute_result"
        }
      ],
      "source": [
        "from sklearn.svm import SVC\n",
        "classifier = SVC(kernel='rbf', random_state = 1)\n",
        "classifier.fit(X_train,Y_train)"
      ]
    },
    {
      "cell_type": "code",
      "execution_count": null,
      "id": "prescription-louisiana",
      "metadata": {
        "id": "prescription-louisiana"
      },
      "outputs": [],
      "source": [
        "from sklearn import svm\n",
        "from sklearn import metrics\n"
      ]
    },
    {
      "cell_type": "code",
      "execution_count": null,
      "id": "passing-fence",
      "metadata": {
        "id": "passing-fence"
      },
      "outputs": [],
      "source": [
        "clf = svm.SVC(kernel='linear') # Linear Kernel\n"
      ]
    },
    {
      "cell_type": "code",
      "execution_count": null,
      "id": "serial-straight",
      "metadata": {
        "id": "serial-straight",
        "outputId": "c239583a-4379-4ec7-f7f9-1e7d587a4064"
      },
      "outputs": [
        {
          "name": "stdout",
          "output_type": "stream",
          "text": [
            "Accuracy: 0.7574257425742574\n",
            "              precision    recall  f1-score   support\n",
            "\n",
            "       False       0.86      0.75      0.80       765\n",
            "        True       0.44      0.62      0.51       245\n",
            "\n",
            "    accuracy                           0.71      1010\n",
            "   macro avg       0.65      0.68      0.65      1010\n",
            "weighted avg       0.76      0.71      0.73      1010\n",
            "\n"
          ]
        }
      ],
      "source": [
        "clf.fit(X_train, Y_train)\n",
        "y_pred = clf.predict(X_test)\n",
        "print(\"Accuracy:\",metrics.accuracy_score(Y_test, y_pred))\n",
        "print(classification_report(Y_test, Y_test_pred))"
      ]
    },
    {
      "cell_type": "code",
      "execution_count": null,
      "id": "supported-extension",
      "metadata": {
        "id": "supported-extension",
        "outputId": "bb7aa35f-316a-41ef-cc3e-0e1f9f0777b5"
      },
      "outputs": [
        {
          "data": {
            "text/plain": [
              "array([[570, 195],\n",
              "       [ 94, 151]])"
            ]
          },
          "execution_count": 114,
          "metadata": {},
          "output_type": "execute_result"
        }
      ],
      "source": [
        "# Look at confusion matrix\n",
        "cnf_matrix = metrics.confusion_matrix(Y_test, Y_test_pred)\n",
        "cnf_matrix"
      ]
    },
    {
      "cell_type": "code",
      "execution_count": null,
      "id": "concerned-friendship",
      "metadata": {
        "id": "concerned-friendship",
        "outputId": "98de3af2-43d2-4bfe-aa6e-84984e36d946"
      },
      "outputs": [
        {
          "name": "stdout",
          "output_type": "stream",
          "text": [
            "(3030,)\n"
          ]
        },
        {
          "data": {
            "image/png": "[encoded data removed]",
            "text/plain": [
              "<Figure size 432x288 with 2 Axes>"
            ]
          },
          "metadata": {
            "needs_background": "light"
          },
          "output_type": "display_data"
        }
      ],
      "source": [
        "# Plot results\n",
        "class_names=[0,1] # name  of classes\n",
        "fig, ax = plt.subplots()\n",
        "tick_marks = np.arange(len(class_names))\n",
        "plt.xticks(tick_marks, class_names)\n",
        "plt.yticks(tick_marks, class_names)\n",
        "# create heatmap\n",
        "sns.heatmap(pd.DataFrame(cnf_matrix), annot=True, cmap=\"YlGnBu\" ,fmt='g')\n",
        "ax.xaxis.set_label_position(\"top\")\n",
        "plt.tight_layout()\n",
        "plt.title('Confusion matrix', y=1.1)\n",
        "plt.ylabel('Actual label')\n",
        "plt.xlabel('Predicted label')\n",
        "print(Y_train.shape)"
      ]
    },
    {
      "cell_type": "code",
      "execution_count": null,
      "id": "equivalent-minneapolis",
      "metadata": {
        "id": "equivalent-minneapolis"
      },
      "outputs": [],
      "source": [
        "filtered_df['mean_comments'] = np.where(filtered_df['requester_number_of_comments_in_raop_at_request'] > 1, True, False)\n"
      ]
    },
    {
      "cell_type": "code",
      "execution_count": null,
      "id": "surprising-yellow",
      "metadata": {
        "id": "surprising-yellow"
      },
      "outputs": [],
      "source": [
        "# Now need to split into features and targets\n",
        "feature_cols = ['request_text_count', 'request_number_of_comments_at_retrieval', 'mean_comments']\n",
        "X = filtered_df[feature_cols]\n",
        "Y = filtered_df.requester_received_pizza\n",
        "\n",
        "X_train, X_test, Y_train, Y_test = train_test_split(X, Y, test_size=0.25,random_state=0)"
      ]
    }
  ],
  "metadata": {
    "kernelspec": {
      "display_name": "Python 3",
      "language": "python",
      "name": "python3"
    },
    "language_info": {
      "codemirror_mode": {
        "name": "ipython",
        "version": 3
      },
      "file_extension": ".py",
      "mimetype": "text/x-python",
      "name": "python",
      "nbconvert_exporter": "python",
      "pygments_lexer": "ipython3",
      "version": "3.8.2"
    },
    "colab": {
      "name": "final_project.ipynb.json",
      "provenance": []
    }
  },
  "nbformat": 4,
  "nbformat_minor": 5
}
