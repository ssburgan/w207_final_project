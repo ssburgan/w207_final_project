{
  "cells": [
    {
      "cell_type": "markdown",
      "source": [
        "```\n",
        "### Shane Kramer\n",
        "### 207 Final Project Scratchpad\n",
        "### 02.27.22 - Simple model based on request word count and comment count\n",
        "```\n",
        "---\n",
        "\n"
      ],
      "metadata": {
        "id": "ZsCBln6AocND"
      },
      "id": "ZsCBln6AocND"
    },
    {
      "cell_type": "code",
      "execution_count": 50,
      "id": "3af915d5",
      "metadata": {
        "id": "3af915d5"
      },
      "outputs": [],
      "source": [
        "import numpy as np \n",
        "import pandas as pd \n",
        "from pandas import json_normalize\n",
        "import json \n",
        "from sklearn.linear_model import LogisticRegression\n",
        "from sklearn import metrics\n",
        "from sklearn.model_selection import train_test_split\n",
        "import matplotlib.pyplot as plt\n",
        "import seaborn as sns"
      ]
    },
    {
      "cell_type": "code",
      "source": [
        "from google.colab import drive\n",
        "drive.mount('/content/drive')"
      ],
      "metadata": {
        "id": "zIYyOLQilUhp",
        "outputId": "bb037a80-7844-4272-a7f8-4118b88cc8f9",
        "colab": {
          "base_uri": "https://localhost:8080/"
        }
      },
      "id": "zIYyOLQilUhp",
      "execution_count": 23,
      "outputs": [
        {
          "output_type": "stream",
          "name": "stdout",
          "text": [
            "Drive already mounted at /content/drive; to attempt to forcibly remount, call drive.mount(\"/content/drive\", force_remount=True).\n"
          ]
        }
      ]
    },
    {
      "cell_type": "code",
      "execution_count": 47,
      "id": "9f3e916c",
      "metadata": {
        "id": "9f3e916c",
        "colab": {
          "base_uri": "https://localhost:8080/"
        },
        "outputId": "e11b45c1-0b98-4726-e447-a8396c6fea41"
      },
      "outputs": [
        {
          "output_type": "stream",
          "name": "stderr",
          "text": [
            "/usr/local/lib/python3.7/dist-packages/ipykernel_launcher.py:9: SettingWithCopyWarning: \n",
            "A value is trying to be set on a copy of a slice from a DataFrame.\n",
            "Try using .loc[row_indexer,col_indexer] = value instead\n",
            "\n",
            "See the caveats in the documentation: https://pandas.pydata.org/pandas-docs/stable/user_guide/indexing.html#returning-a-view-versus-a-copy\n",
            "  if __name__ == '__main__':\n"
          ]
        }
      ],
      "source": [
        "# Can configure the list below to filter columns from original training data set\n",
        "test_cols = ['request_text', 'request_number_of_comments_at_retrieval', 'requester_received_pizza']\n",
        "\n",
        "# Read JSON file\n",
        "train_df = pd.read_json('/content/drive/MyDrive/W207/FinalProject/w207_final_project/src/data/train.json')\n",
        "filtered_df = train_df[test_cols]\n",
        "\n",
        "# Add word count column\n",
        "filtered_df['request_text_count'] = filtered_df['request_text'].str.count(' ') + 1"
      ]
    },
    {
      "cell_type": "code",
      "source": [
        "# Now need to split into features and targets\n",
        "feature_cols = ['request_text_count', 'request_number_of_comments_at_retrieval']\n",
        "X = filtered_df[feature_cols]\n",
        "Y = filtered_df.requester_received_pizza\n"
      ],
      "metadata": {
        "id": "nSpm3rkBuSzd"
      },
      "id": "nSpm3rkBuSzd",
      "execution_count": 35,
      "outputs": []
    },
    {
      "cell_type": "code",
      "source": [
        "X_train, X_test, Y_train, Y_test = train_test_split(X, Y, test_size=0.25,random_state=0)"
      ],
      "metadata": {
        "id": "GucMaB-byZmJ"
      },
      "id": "GucMaB-byZmJ",
      "execution_count": 51,
      "outputs": []
    },
    {
      "cell_type": "code",
      "source": [
        "# Create and train model using train data\n",
        "logreg = LogisticRegression()\n",
        "logreg.fit(X_train,Y_train)\n",
        "Y_pred = logreg.predict(X)"
      ],
      "metadata": {
        "id": "6WGIz11ju71b"
      },
      "id": "6WGIz11ju71b",
      "execution_count": 53,
      "outputs": []
    },
    {
      "cell_type": "code",
      "source": [
        "# Run model against test data\n",
        "Y_test_pred = logreg.predict(X_test)"
      ],
      "metadata": {
        "id": "ybuNiyiUyt73"
      },
      "id": "ybuNiyiUyt73",
      "execution_count": 52,
      "outputs": []
    },
    {
      "cell_type": "code",
      "source": [
        "# Look at confusion matrix\n",
        "cnf_matrix = metrics.confusion_matrix(Y_test, Y_test_pred)\n",
        "cnf_matrix"
      ],
      "metadata": {
        "colab": {
          "base_uri": "https://localhost:8080/"
        },
        "id": "VWVVpOOIvqLp",
        "outputId": "2aab6529-e10b-49ca-e199-6df0d24a365b"
      },
      "id": "VWVVpOOIvqLp",
      "execution_count": 54,
      "outputs": [
        {
          "output_type": "execute_result",
          "data": {
            "text/plain": [
              "array([[732,  33],\n",
              "       [220,  25]])"
            ]
          },
          "metadata": {},
          "execution_count": 54
        }
      ]
    },
    {
      "cell_type": "code",
      "source": [
        "# Plot results\n",
        "class_names=[0,1] # name  of classes\n",
        "fig, ax = plt.subplots()\n",
        "tick_marks = np.arange(len(class_names))\n",
        "plt.xticks(tick_marks, class_names)\n",
        "plt.yticks(tick_marks, class_names)\n",
        "# create heatmap\n",
        "sns.heatmap(pd.DataFrame(cnf_matrix), annot=True, cmap=\"YlGnBu\" ,fmt='g')\n",
        "ax.xaxis.set_label_position(\"top\")\n",
        "plt.tight_layout()\n",
        "plt.title('Confusion matrix', y=1.1)\n",
        "plt.ylabel('Actual label')\n",
        "plt.xlabel('Predicted label')"
      ],
      "metadata": {
        "colab": {
          "base_uri": "https://localhost:8080/",
          "height": 342
        },
        "id": "cxq_RXDVwB7f",
        "outputId": "4f086cad-7a44-437a-fb01-e51b7c158c19"
      },
      "id": "cxq_RXDVwB7f",
      "execution_count": 55,
      "outputs": [
        {
          "output_type": "execute_result",
          "data": {
            "text/plain": [
              "Text(0.5, 257.44, 'Predicted label')"
            ]
          },
          "metadata": {},
          "execution_count": 55
        },
        {
          "output_type": "display_data",
          "data": {
            "image/png": "[encoded data removed]",
            "text/plain": [
              "<Figure size 432x288 with 2 Axes>"
            ]
          },
          "metadata": {
            "needs_background": "light"
          }
        }
      ]
    },
    {
      "cell_type": "code",
      "source": [
        "# Output results\n",
        "print(\"Accuracy:\",metrics.accuracy_score(Y, Y_pred))\n",
        "print(\"Precision:\",metrics.precision_score(Y, Y_pred))\n",
        "print(\"Recall:\",metrics.recall_score(Y, Y_pred))"
      ],
      "metadata": {
        "colab": {
          "base_uri": "https://localhost:8080/"
        },
        "id": "D4CRRCgXwtIm",
        "outputId": "787d9611-70aa-4d59-9129-0d6b2431be8b"
      },
      "id": "D4CRRCgXwtIm",
      "execution_count": 56,
      "outputs": [
        {
          "output_type": "stream",
          "name": "stdout",
          "text": [
            "Accuracy: 0.7589108910891089\n",
            "Precision: 0.5416666666666666\n",
            "Recall: 0.13078470824949698\n"
          ]
        }
      ]
    },
    {
      "cell_type": "code",
      "source": [
        ""
      ],
      "metadata": {
        "id": "l9u8gVMNshiD"
      },
      "id": "l9u8gVMNshiD",
      "execution_count": null,
      "outputs": []
    }
  ],
  "metadata": {
    "kernelspec": {
      "display_name": "Python 3",
      "language": "python",
      "name": "python3"
    },
    "language_info": {
      "codemirror_mode": {
        "name": "ipython",
        "version": 3
      },
      "file_extension": ".py",
      "mimetype": "text/x-python",
      "name": "python",
      "nbconvert_exporter": "python",
      "pygments_lexer": "ipython3",
      "version": "3.8.10"
    },
    "colab": {
      "name": "ProjectScratchNotebook.ipynb",
      "provenance": [],
      "collapsed_sections": []
    }
  },
  "nbformat": 4,
  "nbformat_minor": 5
}